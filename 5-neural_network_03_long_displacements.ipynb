{
 "cells": [
  {
   "cell_type": "markdown",
   "metadata": {},
   "source": [
    "# Prediction of the NRDD with Dense Neural Networks"
   ]
  },
  {
   "cell_type": "markdown",
   "metadata": {},
   "source": [
    "The uniformity criterion was predicted before with a tuned LightGBM model and the goal of this chapter is to compare the performance with a dense neural network model"
   ]
  },
  {
   "cell_type": "code",
   "execution_count": 33,
   "metadata": {},
   "outputs": [],
   "source": [
    "import numpy as np\n",
    "import pandas as pd\n",
    "import os\n",
    "import matplotlib.pyplot as plt\n",
    "from sklearn.model_selection import train_test_split, KFold, cross_val_score\n",
    "from sklearn.preprocessing import StandardScaler, PowerTransformer, FunctionTransformer, RobustScaler, QuantileTransformer, PolynomialFeatures\n",
    "from sklearn.metrics import r2_score, mean_squared_error\n",
    "import tensorflow as tf\n",
    "from tensorflow.keras.optimizers import Adam\n",
    "from tensorflow.keras.models import Sequential\n",
    "from tensorflow.keras.layers import Input, Dense\n",
    "from scikeras.wrappers import KerasRegressor\n",
    "from sklearn.pipeline import Pipeline\n",
    "from sklearn.compose import ColumnTransformer\n",
    "from sklearn.model_selection import GridSearchCV\n",
    "from skopt import BayesSearchCV\n",
    "from skopt.space import Real, Integer, Categorical"
   ]
  },
  {
   "cell_type": "code",
   "execution_count": 34,
   "metadata": {},
   "outputs": [],
   "source": [
    "# Load dataframes from binary files\n",
    "fam = '03'\n",
    "#base_dir = r'C:\\FBr\\Weiterbildung\\Project'\n",
    "base_dir = r'D:\\Entwicklungen\\share\\DataScienceProject'\n",
    "#base_dir = r'D:\\FBr\\DataScienceProject'\n",
    "\n",
    "all_data = {}\n",
    "fam_dir = os.path.join(base_dir, fam, 'data-' + fam)\n",
    "all_data[fam] = {}\n",
    "\n",
    "ft_param_path = os.path.join(base_dir, 'Scripts', str(fam) + '-feat-parameters.ft')\n",
    "df_params = pd.read_feather(ft_param_path)"
   ]
  },
  {
   "cell_type": "code",
   "execution_count": 35,
   "metadata": {},
   "outputs": [
    {
     "data": {
      "text/html": [
       "<div>\n",
       "<style scoped>\n",
       "    .dataframe tbody tr th:only-of-type {\n",
       "        vertical-align: middle;\n",
       "    }\n",
       "\n",
       "    .dataframe tbody tr th {\n",
       "        vertical-align: top;\n",
       "    }\n",
       "\n",
       "    .dataframe thead th {\n",
       "        text-align: right;\n",
       "    }\n",
       "</style>\n",
       "<table border=\"1\" class=\"dataframe\">\n",
       "  <thead>\n",
       "    <tr style=\"text-align: right;\">\n",
       "      <th></th>\n",
       "      <th>dp_no</th>\n",
       "      <th>dim_x</th>\n",
       "      <th>dim_y</th>\n",
       "      <th>dim_z</th>\n",
       "      <th>nb_slots_x</th>\n",
       "      <th>slot_x_length</th>\n",
       "      <th>slot_x_distance</th>\n",
       "      <th>nb_slots_z</th>\n",
       "      <th>slot_z_length</th>\n",
       "      <th>slot_z_distance</th>\n",
       "      <th>...</th>\n",
       "      <th>disp_long_396</th>\n",
       "      <th>disp_long_397</th>\n",
       "      <th>disp_long_398</th>\n",
       "      <th>disp_long_399</th>\n",
       "      <th>sum_sensi</th>\n",
       "      <th>coupling_long</th>\n",
       "      <th>slot_2-2</th>\n",
       "      <th>slot_3-2</th>\n",
       "      <th>slot_4-1</th>\n",
       "      <th>slot_4-2</th>\n",
       "    </tr>\n",
       "  </thead>\n",
       "  <tbody>\n",
       "    <tr>\n",
       "      <th>0</th>\n",
       "      <td>1001</td>\n",
       "      <td>175.06</td>\n",
       "      <td>121.95</td>\n",
       "      <td>240.31</td>\n",
       "      <td>4</td>\n",
       "      <td>75.993</td>\n",
       "      <td>43.235</td>\n",
       "      <td>2</td>\n",
       "      <td>78.219</td>\n",
       "      <td>59.508</td>\n",
       "      <td>...</td>\n",
       "      <td>0.170716</td>\n",
       "      <td>0.140101</td>\n",
       "      <td>0.144549</td>\n",
       "      <td>0.151599</td>\n",
       "      <td>3.405414e-16</td>\n",
       "      <td>0.960466</td>\n",
       "      <td>0</td>\n",
       "      <td>0</td>\n",
       "      <td>0</td>\n",
       "      <td>1</td>\n",
       "    </tr>\n",
       "    <tr>\n",
       "      <th>1</th>\n",
       "      <td>1002</td>\n",
       "      <td>173.45</td>\n",
       "      <td>122.77</td>\n",
       "      <td>238.13</td>\n",
       "      <td>4</td>\n",
       "      <td>81.168</td>\n",
       "      <td>45.859</td>\n",
       "      <td>2</td>\n",
       "      <td>78.924</td>\n",
       "      <td>57.208</td>\n",
       "      <td>...</td>\n",
       "      <td>0.167263</td>\n",
       "      <td>0.146107</td>\n",
       "      <td>0.139493</td>\n",
       "      <td>0.143682</td>\n",
       "      <td>5.401730e-17</td>\n",
       "      <td>0.956635</td>\n",
       "      <td>0</td>\n",
       "      <td>0</td>\n",
       "      <td>0</td>\n",
       "      <td>1</td>\n",
       "    </tr>\n",
       "    <tr>\n",
       "      <th>2</th>\n",
       "      <td>1003</td>\n",
       "      <td>175.85</td>\n",
       "      <td>116.71</td>\n",
       "      <td>238.10</td>\n",
       "      <td>4</td>\n",
       "      <td>77.532</td>\n",
       "      <td>45.260</td>\n",
       "      <td>2</td>\n",
       "      <td>80.099</td>\n",
       "      <td>49.215</td>\n",
       "      <td>...</td>\n",
       "      <td>0.293034</td>\n",
       "      <td>0.274524</td>\n",
       "      <td>0.277739</td>\n",
       "      <td>0.284010</td>\n",
       "      <td>2.678586e-18</td>\n",
       "      <td>0.986845</td>\n",
       "      <td>0</td>\n",
       "      <td>0</td>\n",
       "      <td>0</td>\n",
       "      <td>1</td>\n",
       "    </tr>\n",
       "    <tr>\n",
       "      <th>3</th>\n",
       "      <td>1004</td>\n",
       "      <td>173.51</td>\n",
       "      <td>116.37</td>\n",
       "      <td>238.30</td>\n",
       "      <td>4</td>\n",
       "      <td>82.428</td>\n",
       "      <td>51.007</td>\n",
       "      <td>2</td>\n",
       "      <td>74.757</td>\n",
       "      <td>50.840</td>\n",
       "      <td>...</td>\n",
       "      <td>0.242726</td>\n",
       "      <td>0.182347</td>\n",
       "      <td>0.183003</td>\n",
       "      <td>0.186770</td>\n",
       "      <td>8.933099e-18</td>\n",
       "      <td>0.967459</td>\n",
       "      <td>0</td>\n",
       "      <td>0</td>\n",
       "      <td>0</td>\n",
       "      <td>1</td>\n",
       "    </tr>\n",
       "    <tr>\n",
       "      <th>4</th>\n",
       "      <td>1005</td>\n",
       "      <td>175.60</td>\n",
       "      <td>118.72</td>\n",
       "      <td>241.04</td>\n",
       "      <td>4</td>\n",
       "      <td>76.576</td>\n",
       "      <td>45.981</td>\n",
       "      <td>2</td>\n",
       "      <td>78.773</td>\n",
       "      <td>64.702</td>\n",
       "      <td>...</td>\n",
       "      <td>0.260120</td>\n",
       "      <td>0.259677</td>\n",
       "      <td>0.281911</td>\n",
       "      <td>0.293833</td>\n",
       "      <td>8.025438e-18</td>\n",
       "      <td>0.991598</td>\n",
       "      <td>0</td>\n",
       "      <td>0</td>\n",
       "      <td>0</td>\n",
       "      <td>1</td>\n",
       "    </tr>\n",
       "  </tbody>\n",
       "</table>\n",
       "<p>5 rows × 545 columns</p>\n",
       "</div>"
      ],
      "text/plain": [
       "   dp_no   dim_x   dim_y   dim_z  nb_slots_x  slot_x_length  slot_x_distance  \\\n",
       "0   1001  175.06  121.95  240.31           4         75.993           43.235   \n",
       "1   1002  173.45  122.77  238.13           4         81.168           45.859   \n",
       "2   1003  175.85  116.71  238.10           4         77.532           45.260   \n",
       "3   1004  173.51  116.37  238.30           4         82.428           51.007   \n",
       "4   1005  175.60  118.72  241.04           4         76.576           45.981   \n",
       "\n",
       "   nb_slots_z  slot_z_length  slot_z_distance  ...  disp_long_396  \\\n",
       "0           2         78.219           59.508  ...       0.170716   \n",
       "1           2         78.924           57.208  ...       0.167263   \n",
       "2           2         80.099           49.215  ...       0.293034   \n",
       "3           2         74.757           50.840  ...       0.242726   \n",
       "4           2         78.773           64.702  ...       0.260120   \n",
       "\n",
       "   disp_long_397  disp_long_398  disp_long_399     sum_sensi  coupling_long  \\\n",
       "0       0.140101       0.144549       0.151599  3.405414e-16       0.960466   \n",
       "1       0.146107       0.139493       0.143682  5.401730e-17       0.956635   \n",
       "2       0.274524       0.277739       0.284010  2.678586e-18       0.986845   \n",
       "3       0.182347       0.183003       0.186770  8.933099e-18       0.967459   \n",
       "4       0.259677       0.281911       0.293833  8.025438e-18       0.991598   \n",
       "\n",
       "   slot_2-2  slot_3-2  slot_4-1  slot_4-2  \n",
       "0         0         0         0         1  \n",
       "1         0         0         0         1  \n",
       "2         0         0         0         1  \n",
       "3         0         0         0         1  \n",
       "4         0         0         0         1  \n",
       "\n",
       "[5 rows x 545 columns]"
      ]
     },
     "execution_count": 35,
     "metadata": {},
     "output_type": "execute_result"
    }
   ],
   "source": [
    "df_params.head()"
   ]
  },
  {
   "cell_type": "code",
   "execution_count": 36,
   "metadata": {},
   "outputs": [],
   "source": [
    "lst_param = df_params.columns.to_list()"
   ]
  },
  {
   "cell_type": "markdown",
   "metadata": {},
   "source": [
    "# Preparation of the variables"
   ]
  },
  {
   "cell_type": "markdown",
   "metadata": {},
   "source": [
    "Definition of the explanatory variables (geometrical parameters)"
   ]
  },
  {
   "cell_type": "code",
   "execution_count": 37,
   "metadata": {},
   "outputs": [],
   "source": [
    "# Unscaled explanatory variables\n",
    "lst_slot_class = lst_param[541:545]\n",
    "lst_expl = lst_param[1:4] + lst_param[5:7] + lst_param[8:24] + lst_param[32:34]\n",
    "X = df_params[lst_expl + lst_slot_class]"
   ]
  },
  {
   "cell_type": "code",
   "execution_count": 38,
   "metadata": {},
   "outputs": [
    {
     "data": {
      "text/html": [
       "<div>\n",
       "<style scoped>\n",
       "    .dataframe tbody tr th:only-of-type {\n",
       "        vertical-align: middle;\n",
       "    }\n",
       "\n",
       "    .dataframe tbody tr th {\n",
       "        vertical-align: top;\n",
       "    }\n",
       "\n",
       "    .dataframe thead th {\n",
       "        text-align: right;\n",
       "    }\n",
       "</style>\n",
       "<table border=\"1\" class=\"dataframe\">\n",
       "  <thead>\n",
       "    <tr style=\"text-align: right;\">\n",
       "      <th></th>\n",
       "      <th>dim_x</th>\n",
       "      <th>dim_y</th>\n",
       "      <th>dim_z</th>\n",
       "      <th>slot_x_length</th>\n",
       "      <th>slot_x_distance</th>\n",
       "      <th>slot_z_length</th>\n",
       "      <th>slot_z_distance</th>\n",
       "      <th>chamfer_x_dim_y</th>\n",
       "      <th>chamfer_x_dim_z</th>\n",
       "      <th>chamfer_y_dim_x</th>\n",
       "      <th>...</th>\n",
       "      <th>cut_x_depth</th>\n",
       "      <th>cut_z_start</th>\n",
       "      <th>cut_z_end</th>\n",
       "      <th>cut_z_depth</th>\n",
       "      <th>seg_x_out</th>\n",
       "      <th>seg_z_out</th>\n",
       "      <th>slot_2-2</th>\n",
       "      <th>slot_3-2</th>\n",
       "      <th>slot_4-1</th>\n",
       "      <th>slot_4-2</th>\n",
       "    </tr>\n",
       "  </thead>\n",
       "  <tbody>\n",
       "    <tr>\n",
       "      <th>0</th>\n",
       "      <td>0.052038</td>\n",
       "      <td>0.675477</td>\n",
       "      <td>0.268415</td>\n",
       "      <td>-0.964606</td>\n",
       "      <td>-1.216650</td>\n",
       "      <td>-0.108340</td>\n",
       "      <td>-0.428067</td>\n",
       "      <td>0.972486</td>\n",
       "      <td>0.351407</td>\n",
       "      <td>-1.234165</td>\n",
       "      <td>...</td>\n",
       "      <td>-1.180056</td>\n",
       "      <td>-0.998197</td>\n",
       "      <td>1.186053</td>\n",
       "      <td>-0.393300</td>\n",
       "      <td>-0.288377</td>\n",
       "      <td>-0.617930</td>\n",
       "      <td>0</td>\n",
       "      <td>0</td>\n",
       "      <td>0</td>\n",
       "      <td>1</td>\n",
       "    </tr>\n",
       "    <tr>\n",
       "      <th>1</th>\n",
       "      <td>-1.341835</td>\n",
       "      <td>0.959596</td>\n",
       "      <td>-1.619352</td>\n",
       "      <td>1.026687</td>\n",
       "      <td>-0.996598</td>\n",
       "      <td>0.162988</td>\n",
       "      <td>-0.592297</td>\n",
       "      <td>0.290194</td>\n",
       "      <td>-0.021012</td>\n",
       "      <td>1.042796</td>\n",
       "      <td>...</td>\n",
       "      <td>1.632010</td>\n",
       "      <td>-0.762137</td>\n",
       "      <td>-0.141535</td>\n",
       "      <td>1.592878</td>\n",
       "      <td>-0.623407</td>\n",
       "      <td>-0.590973</td>\n",
       "      <td>0</td>\n",
       "      <td>0</td>\n",
       "      <td>0</td>\n",
       "      <td>1</td>\n",
       "    </tr>\n",
       "    <tr>\n",
       "      <th>2</th>\n",
       "      <td>0.735987</td>\n",
       "      <td>-1.140108</td>\n",
       "      <td>-1.645330</td>\n",
       "      <td>-0.372413</td>\n",
       "      <td>-1.046831</td>\n",
       "      <td>0.615201</td>\n",
       "      <td>-1.163032</td>\n",
       "      <td>-1.319075</td>\n",
       "      <td>-0.011177</td>\n",
       "      <td>-0.651763</td>\n",
       "      <td>...</td>\n",
       "      <td>-0.942469</td>\n",
       "      <td>-1.417812</td>\n",
       "      <td>-0.872893</td>\n",
       "      <td>-1.224991</td>\n",
       "      <td>-0.564514</td>\n",
       "      <td>-0.184940</td>\n",
       "      <td>0</td>\n",
       "      <td>0</td>\n",
       "      <td>0</td>\n",
       "      <td>1</td>\n",
       "    </tr>\n",
       "    <tr>\n",
       "      <th>3</th>\n",
       "      <td>-1.289889</td>\n",
       "      <td>-1.257914</td>\n",
       "      <td>-1.472140</td>\n",
       "      <td>1.511524</td>\n",
       "      <td>-0.564882</td>\n",
       "      <td>-1.440733</td>\n",
       "      <td>-1.047000</td>\n",
       "      <td>0.358075</td>\n",
       "      <td>0.484408</td>\n",
       "      <td>-1.216083</td>\n",
       "      <td>...</td>\n",
       "      <td>1.141323</td>\n",
       "      <td>0.676109</td>\n",
       "      <td>0.111121</td>\n",
       "      <td>-1.076670</td>\n",
       "      <td>-1.132485</td>\n",
       "      <td>-0.339844</td>\n",
       "      <td>0</td>\n",
       "      <td>0</td>\n",
       "      <td>0</td>\n",
       "      <td>1</td>\n",
       "    </tr>\n",
       "    <tr>\n",
       "      <th>4</th>\n",
       "      <td>0.519548</td>\n",
       "      <td>-0.443672</td>\n",
       "      <td>0.900556</td>\n",
       "      <td>-0.740273</td>\n",
       "      <td>-0.986367</td>\n",
       "      <td>0.104873</td>\n",
       "      <td>-0.057193</td>\n",
       "      <td>1.012866</td>\n",
       "      <td>0.168618</td>\n",
       "      <td>1.111047</td>\n",
       "      <td>...</td>\n",
       "      <td>-1.348848</td>\n",
       "      <td>-0.708940</td>\n",
       "      <td>-0.831592</td>\n",
       "      <td>-1.280280</td>\n",
       "      <td>-0.538616</td>\n",
       "      <td>-0.799752</td>\n",
       "      <td>0</td>\n",
       "      <td>0</td>\n",
       "      <td>0</td>\n",
       "      <td>1</td>\n",
       "    </tr>\n",
       "    <tr>\n",
       "      <th>...</th>\n",
       "      <td>...</td>\n",
       "      <td>...</td>\n",
       "      <td>...</td>\n",
       "      <td>...</td>\n",
       "      <td>...</td>\n",
       "      <td>...</td>\n",
       "      <td>...</td>\n",
       "      <td>...</td>\n",
       "      <td>...</td>\n",
       "      <td>...</td>\n",
       "      <td>...</td>\n",
       "      <td>...</td>\n",
       "      <td>...</td>\n",
       "      <td>...</td>\n",
       "      <td>...</td>\n",
       "      <td>...</td>\n",
       "      <td>...</td>\n",
       "      <td>...</td>\n",
       "      <td>...</td>\n",
       "      <td>...</td>\n",
       "      <td>...</td>\n",
       "    </tr>\n",
       "    <tr>\n",
       "      <th>7985</th>\n",
       "      <td>0.155929</td>\n",
       "      <td>-0.173413</td>\n",
       "      <td>-0.407025</td>\n",
       "      <td>-0.071506</td>\n",
       "      <td>1.944072</td>\n",
       "      <td>-0.562863</td>\n",
       "      <td>-0.783161</td>\n",
       "      <td>0.487223</td>\n",
       "      <td>-1.644638</td>\n",
       "      <td>0.338918</td>\n",
       "      <td>...</td>\n",
       "      <td>-1.162380</td>\n",
       "      <td>-0.310659</td>\n",
       "      <td>1.307600</td>\n",
       "      <td>1.497900</td>\n",
       "      <td>1.311448</td>\n",
       "      <td>-0.418957</td>\n",
       "      <td>1</td>\n",
       "      <td>0</td>\n",
       "      <td>0</td>\n",
       "      <td>0</td>\n",
       "    </tr>\n",
       "    <tr>\n",
       "      <th>7986</th>\n",
       "      <td>1.099606</td>\n",
       "      <td>-0.939147</td>\n",
       "      <td>0.510880</td>\n",
       "      <td>-0.218112</td>\n",
       "      <td>1.176576</td>\n",
       "      <td>0.495893</td>\n",
       "      <td>-0.158801</td>\n",
       "      <td>-0.123411</td>\n",
       "      <td>-0.523212</td>\n",
       "      <td>-1.668875</td>\n",
       "      <td>...</td>\n",
       "      <td>-0.729932</td>\n",
       "      <td>0.206345</td>\n",
       "      <td>0.998675</td>\n",
       "      <td>1.617276</td>\n",
       "      <td>1.651811</td>\n",
       "      <td>-0.717983</td>\n",
       "      <td>1</td>\n",
       "      <td>0</td>\n",
       "      <td>0</td>\n",
       "      <td>0</td>\n",
       "    </tr>\n",
       "    <tr>\n",
       "      <th>7987</th>\n",
       "      <td>-0.857009</td>\n",
       "      <td>-0.758974</td>\n",
       "      <td>-0.640831</td>\n",
       "      <td>0.731937</td>\n",
       "      <td>2.026256</td>\n",
       "      <td>0.345412</td>\n",
       "      <td>-0.382511</td>\n",
       "      <td>-0.528452</td>\n",
       "      <td>-1.660220</td>\n",
       "      <td>0.379828</td>\n",
       "      <td>...</td>\n",
       "      <td>1.271914</td>\n",
       "      <td>0.909537</td>\n",
       "      <td>0.438064</td>\n",
       "      <td>-1.066910</td>\n",
       "      <td>1.269786</td>\n",
       "      <td>-0.683877</td>\n",
       "      <td>1</td>\n",
       "      <td>0</td>\n",
       "      <td>0</td>\n",
       "      <td>0</td>\n",
       "    </tr>\n",
       "    <tr>\n",
       "      <th>7988</th>\n",
       "      <td>-0.337554</td>\n",
       "      <td>-0.173413</td>\n",
       "      <td>-0.510938</td>\n",
       "      <td>-1.405192</td>\n",
       "      <td>1.372308</td>\n",
       "      <td>-1.397244</td>\n",
       "      <td>-0.578444</td>\n",
       "      <td>-0.788036</td>\n",
       "      <td>0.288562</td>\n",
       "      <td>-1.670127</td>\n",
       "      <td>...</td>\n",
       "      <td>0.500178</td>\n",
       "      <td>0.463600</td>\n",
       "      <td>-0.127121</td>\n",
       "      <td>1.730853</td>\n",
       "      <td>1.534690</td>\n",
       "      <td>-0.553233</td>\n",
       "      <td>1</td>\n",
       "      <td>0</td>\n",
       "      <td>0</td>\n",
       "      <td>0</td>\n",
       "    </tr>\n",
       "    <tr>\n",
       "      <th>7989</th>\n",
       "      <td>1.367992</td>\n",
       "      <td>0.717056</td>\n",
       "      <td>-1.411524</td>\n",
       "      <td>0.155520</td>\n",
       "      <td>0.926335</td>\n",
       "      <td>-0.254588</td>\n",
       "      <td>-0.259267</td>\n",
       "      <td>1.719526</td>\n",
       "      <td>-0.372507</td>\n",
       "      <td>1.122228</td>\n",
       "      <td>...</td>\n",
       "      <td>0.042581</td>\n",
       "      <td>0.132230</td>\n",
       "      <td>0.387754</td>\n",
       "      <td>1.659708</td>\n",
       "      <td>1.677275</td>\n",
       "      <td>-0.650903</td>\n",
       "      <td>1</td>\n",
       "      <td>0</td>\n",
       "      <td>0</td>\n",
       "      <td>0</td>\n",
       "    </tr>\n",
       "  </tbody>\n",
       "</table>\n",
       "<p>7990 rows × 27 columns</p>\n",
       "</div>"
      ],
      "text/plain": [
       "         dim_x     dim_y     dim_z  slot_x_length  slot_x_distance  \\\n",
       "0     0.052038  0.675477  0.268415      -0.964606        -1.216650   \n",
       "1    -1.341835  0.959596 -1.619352       1.026687        -0.996598   \n",
       "2     0.735987 -1.140108 -1.645330      -0.372413        -1.046831   \n",
       "3    -1.289889 -1.257914 -1.472140       1.511524        -0.564882   \n",
       "4     0.519548 -0.443672  0.900556      -0.740273        -0.986367   \n",
       "...        ...       ...       ...            ...              ...   \n",
       "7985  0.155929 -0.173413 -0.407025      -0.071506         1.944072   \n",
       "7986  1.099606 -0.939147  0.510880      -0.218112         1.176576   \n",
       "7987 -0.857009 -0.758974 -0.640831       0.731937         2.026256   \n",
       "7988 -0.337554 -0.173413 -0.510938      -1.405192         1.372308   \n",
       "7989  1.367992  0.717056 -1.411524       0.155520         0.926335   \n",
       "\n",
       "      slot_z_length  slot_z_distance  chamfer_x_dim_y  chamfer_x_dim_z  \\\n",
       "0         -0.108340        -0.428067         0.972486         0.351407   \n",
       "1          0.162988        -0.592297         0.290194        -0.021012   \n",
       "2          0.615201        -1.163032        -1.319075        -0.011177   \n",
       "3         -1.440733        -1.047000         0.358075         0.484408   \n",
       "4          0.104873        -0.057193         1.012866         0.168618   \n",
       "...             ...              ...              ...              ...   \n",
       "7985      -0.562863        -0.783161         0.487223        -1.644638   \n",
       "7986       0.495893        -0.158801        -0.123411        -0.523212   \n",
       "7987       0.345412        -0.382511        -0.528452        -1.660220   \n",
       "7988      -1.397244        -0.578444        -0.788036         0.288562   \n",
       "7989      -0.254588        -0.259267         1.719526        -0.372507   \n",
       "\n",
       "      chamfer_y_dim_x  ...  cut_x_depth  cut_z_start  cut_z_end  cut_z_depth  \\\n",
       "0           -1.234165  ...    -1.180056    -0.998197   1.186053    -0.393300   \n",
       "1            1.042796  ...     1.632010    -0.762137  -0.141535     1.592878   \n",
       "2           -0.651763  ...    -0.942469    -1.417812  -0.872893    -1.224991   \n",
       "3           -1.216083  ...     1.141323     0.676109   0.111121    -1.076670   \n",
       "4            1.111047  ...    -1.348848    -0.708940  -0.831592    -1.280280   \n",
       "...               ...  ...          ...          ...        ...          ...   \n",
       "7985         0.338918  ...    -1.162380    -0.310659   1.307600     1.497900   \n",
       "7986        -1.668875  ...    -0.729932     0.206345   0.998675     1.617276   \n",
       "7987         0.379828  ...     1.271914     0.909537   0.438064    -1.066910   \n",
       "7988        -1.670127  ...     0.500178     0.463600  -0.127121     1.730853   \n",
       "7989         1.122228  ...     0.042581     0.132230   0.387754     1.659708   \n",
       "\n",
       "      seg_x_out  seg_z_out  slot_2-2  slot_3-2  slot_4-1  slot_4-2  \n",
       "0     -0.288377  -0.617930         0         0         0         1  \n",
       "1     -0.623407  -0.590973         0         0         0         1  \n",
       "2     -0.564514  -0.184940         0         0         0         1  \n",
       "3     -1.132485  -0.339844         0         0         0         1  \n",
       "4     -0.538616  -0.799752         0         0         0         1  \n",
       "...         ...        ...       ...       ...       ...       ...  \n",
       "7985   1.311448  -0.418957         1         0         0         0  \n",
       "7986   1.651811  -0.717983         1         0         0         0  \n",
       "7987   1.269786  -0.683877         1         0         0         0  \n",
       "7988   1.534690  -0.553233         1         0         0         0  \n",
       "7989   1.677275  -0.650903         1         0         0         0  \n",
       "\n",
       "[7990 rows x 27 columns]"
      ]
     },
     "execution_count": 38,
     "metadata": {},
     "output_type": "execute_result"
    }
   ],
   "source": [
    "# Scale all explanatory variables, except the slot class encoded columns\n",
    "scaler = StandardScaler()\n",
    "X_scaled = scaler.fit_transform(X[lst_expl])\n",
    "X_scaled = pd.concat([pd.DataFrame(X_scaled, columns=lst_expl, index=X.index), X[lst_slot_class]], axis=1)\n",
    "X_scaled"
   ]
  },
  {
   "cell_type": "code",
   "execution_count": 39,
   "metadata": {},
   "outputs": [],
   "source": [
    "# Target variable: NRDD\n",
    "target = 'long_disp_nrdd'\n",
    "y = df_params[[target]]"
   ]
  },
  {
   "cell_type": "code",
   "execution_count": 40,
   "metadata": {},
   "outputs": [],
   "source": [
    "# We store the number of explicative variables for later\n",
    "num_expl = X.shape[1]"
   ]
  },
  {
   "cell_type": "code",
   "execution_count": 41,
   "metadata": {},
   "outputs": [],
   "source": [
    "X_train, X_test, y_train, y_test = train_test_split(X_scaled, y, test_size = 0.2, random_state=55)"
   ]
  },
  {
   "cell_type": "markdown",
   "metadata": {},
   "source": [
    "# Prediction of the Normalized Relative Displacement Deviation of the output displacement"
   ]
  },
  {
   "cell_type": "markdown",
   "metadata": {},
   "source": [
    "We will use a 5-fold cross validation all along the notebook to evaluate the models"
   ]
  },
  {
   "cell_type": "code",
   "execution_count": 42,
   "metadata": {},
   "outputs": [],
   "source": [
    "kfold = KFold(n_splits=5, shuffle=True, random_state=55)"
   ]
  },
  {
   "cell_type": "markdown",
   "metadata": {},
   "source": [
    "### Baseline model"
   ]
  },
  {
   "cell_type": "markdown",
   "metadata": {},
   "source": [
    "We start with the baseline model: the model has a Dense hidden layer with the same numbers of neurons as the Input layer. The structure of the model will be optimized in the next steps. The following function creates and returns the Keras sequential model:"
   ]
  },
  {
   "cell_type": "code",
   "execution_count": 43,
   "metadata": {},
   "outputs": [],
   "source": [
    "def baseline_model():\n",
    "\n",
    "    model = Sequential()    # Instantiate a sequential model\n",
    "    model.add(Dense(num_expl, input_shape=(num_expl,), kernel_initializer='normal', activation='relu'))     # Add a dense layer\n",
    "    model.add(Dense(1, kernel_initializer='normal'))\n",
    "\n",
    "    model.compile(loss='mse', optimizer=tf.optimizers.Adam(learning_rate=0.1))\n",
    "\n",
    "    return model"
   ]
  },
  {
   "cell_type": "code",
   "execution_count": 44,
   "metadata": {},
   "outputs": [
    {
     "name": "stdout",
     "output_type": "stream",
     "text": [
      "Model: \"sequential_18\"\n",
      "_________________________________________________________________\n",
      " Layer (type)                Output Shape              Param #   \n",
      "=================================================================\n",
      " dense_36 (Dense)            (None, 27)                756       \n",
      "                                                                 \n",
      " dense_37 (Dense)            (None, 1)                 28        \n",
      "                                                                 \n",
      "=================================================================\n",
      "Total params: 784 (3.06 KB)\n",
      "Trainable params: 784 (3.06 KB)\n",
      "Non-trainable params: 0 (0.00 Byte)\n",
      "_________________________________________________________________\n"
     ]
    }
   ],
   "source": [
    "model_0 = baseline_model()\n",
    "model_0.summary()"
   ]
  },
  {
   "cell_type": "markdown",
   "metadata": {},
   "source": [
    "The Adam optimization algorithm is used and the mean squared error loss function is used. But the metric r2 will be used to evaluate the performance of the model (default scoring function of KerasRegressor). The baseline model will be used in scikit-learn by wrapping it with the KerasRegressor class. "
   ]
  },
  {
   "cell_type": "code",
   "execution_count": 45,
   "metadata": {},
   "outputs": [
    {
     "name": "stdout",
     "output_type": "stream",
     "text": [
      "INFO:tensorflow:Assets written to: C:\\Users\\fbrouet\\AppData\\Local\\Temp\\tmpvy04uq90\\assets\n"
     ]
    },
    {
     "name": "stderr",
     "output_type": "stream",
     "text": [
      "INFO:tensorflow:Assets written to: C:\\Users\\fbrouet\\AppData\\Local\\Temp\\tmpvy04uq90\\assets\n"
     ]
    },
    {
     "name": "stdout",
     "output_type": "stream",
     "text": [
      "WARNING:tensorflow:Detecting that an object or model or tf.train.Checkpoint is being deleted with unrestored values. See the following logs for the specific values in question. To silence these warnings, use `status.expect_partial()`. See https://www.tensorflow.org/api_docs/python/tf/train/Checkpoint#restorefor details about the status object returned by the restore function.\n"
     ]
    },
    {
     "name": "stderr",
     "output_type": "stream",
     "text": [
      "WARNING:tensorflow:Detecting that an object or model or tf.train.Checkpoint is being deleted with unrestored values. See the following logs for the specific values in question. To silence these warnings, use `status.expect_partial()`. See https://www.tensorflow.org/api_docs/python/tf/train/Checkpoint#restorefor details about the status object returned by the restore function.\n"
     ]
    },
    {
     "name": "stdout",
     "output_type": "stream",
     "text": [
      "WARNING:tensorflow:Value in checkpoint could not be found in the restored object: (root).keras_api.metrics.0.total\n"
     ]
    },
    {
     "name": "stderr",
     "output_type": "stream",
     "text": [
      "WARNING:tensorflow:Value in checkpoint could not be found in the restored object: (root).keras_api.metrics.0.total\n"
     ]
    },
    {
     "name": "stdout",
     "output_type": "stream",
     "text": [
      "WARNING:tensorflow:Value in checkpoint could not be found in the restored object: (root).keras_api.metrics.0.count\n"
     ]
    },
    {
     "name": "stderr",
     "output_type": "stream",
     "text": [
      "WARNING:tensorflow:Value in checkpoint could not be found in the restored object: (root).keras_api.metrics.0.count\n"
     ]
    },
    {
     "name": "stdout",
     "output_type": "stream",
     "text": [
      "WARNING:tensorflow:Detecting that an object or model or tf.train.Checkpoint is being deleted with unrestored values. See the following logs for the specific values in question. To silence these warnings, use `status.expect_partial()`. See https://www.tensorflow.org/api_docs/python/tf/train/Checkpoint#restorefor details about the status object returned by the restore function.\n"
     ]
    },
    {
     "name": "stderr",
     "output_type": "stream",
     "text": [
      "WARNING:tensorflow:Detecting that an object or model or tf.train.Checkpoint is being deleted with unrestored values. See the following logs for the specific values in question. To silence these warnings, use `status.expect_partial()`. See https://www.tensorflow.org/api_docs/python/tf/train/Checkpoint#restorefor details about the status object returned by the restore function.\n"
     ]
    },
    {
     "name": "stdout",
     "output_type": "stream",
     "text": [
      "WARNING:tensorflow:Value in checkpoint could not be found in the restored object: (root).keras_api.metrics.0.total\n"
     ]
    },
    {
     "name": "stderr",
     "output_type": "stream",
     "text": [
      "WARNING:tensorflow:Value in checkpoint could not be found in the restored object: (root).keras_api.metrics.0.total\n"
     ]
    },
    {
     "name": "stdout",
     "output_type": "stream",
     "text": [
      "WARNING:tensorflow:Value in checkpoint could not be found in the restored object: (root).keras_api.metrics.0.count\n"
     ]
    },
    {
     "name": "stderr",
     "output_type": "stream",
     "text": [
      "WARNING:tensorflow:Value in checkpoint could not be found in the restored object: (root).keras_api.metrics.0.count\n"
     ]
    },
    {
     "name": "stdout",
     "output_type": "stream",
     "text": [
      "WARNING:tensorflow:Detecting that an object or model or tf.train.Checkpoint is being deleted with unrestored values. See the following logs for the specific values in question. To silence these warnings, use `status.expect_partial()`. See https://www.tensorflow.org/api_docs/python/tf/train/Checkpoint#restorefor details about the status object returned by the restore function.\n"
     ]
    },
    {
     "name": "stderr",
     "output_type": "stream",
     "text": [
      "WARNING:tensorflow:Detecting that an object or model or tf.train.Checkpoint is being deleted with unrestored values. See the following logs for the specific values in question. To silence these warnings, use `status.expect_partial()`. See https://www.tensorflow.org/api_docs/python/tf/train/Checkpoint#restorefor details about the status object returned by the restore function.\n"
     ]
    },
    {
     "name": "stdout",
     "output_type": "stream",
     "text": [
      "WARNING:tensorflow:Value in checkpoint could not be found in the restored object: (root).keras_api.metrics.0.total\n"
     ]
    },
    {
     "name": "stderr",
     "output_type": "stream",
     "text": [
      "WARNING:tensorflow:Value in checkpoint could not be found in the restored object: (root).keras_api.metrics.0.total\n"
     ]
    },
    {
     "name": "stdout",
     "output_type": "stream",
     "text": [
      "WARNING:tensorflow:Value in checkpoint could not be found in the restored object: (root).keras_api.metrics.0.count\n"
     ]
    },
    {
     "name": "stderr",
     "output_type": "stream",
     "text": [
      "WARNING:tensorflow:Value in checkpoint could not be found in the restored object: (root).keras_api.metrics.0.count\n"
     ]
    },
    {
     "name": "stdout",
     "output_type": "stream",
     "text": [
      "WARNING:tensorflow:Detecting that an object or model or tf.train.Checkpoint is being deleted with unrestored values. See the following logs for the specific values in question. To silence these warnings, use `status.expect_partial()`. See https://www.tensorflow.org/api_docs/python/tf/train/Checkpoint#restorefor details about the status object returned by the restore function.\n"
     ]
    },
    {
     "name": "stderr",
     "output_type": "stream",
     "text": [
      "WARNING:tensorflow:Detecting that an object or model or tf.train.Checkpoint is being deleted with unrestored values. See the following logs for the specific values in question. To silence these warnings, use `status.expect_partial()`. See https://www.tensorflow.org/api_docs/python/tf/train/Checkpoint#restorefor details about the status object returned by the restore function.\n"
     ]
    },
    {
     "name": "stdout",
     "output_type": "stream",
     "text": [
      "WARNING:tensorflow:Value in checkpoint could not be found in the restored object: (root).keras_api.metrics.0.total\n"
     ]
    },
    {
     "name": "stderr",
     "output_type": "stream",
     "text": [
      "WARNING:tensorflow:Value in checkpoint could not be found in the restored object: (root).keras_api.metrics.0.total\n"
     ]
    },
    {
     "name": "stdout",
     "output_type": "stream",
     "text": [
      "WARNING:tensorflow:Value in checkpoint could not be found in the restored object: (root).keras_api.metrics.0.count\n"
     ]
    },
    {
     "name": "stderr",
     "output_type": "stream",
     "text": [
      "WARNING:tensorflow:Value in checkpoint could not be found in the restored object: (root).keras_api.metrics.0.count\n"
     ]
    },
    {
     "name": "stdout",
     "output_type": "stream",
     "text": [
      "WARNING:tensorflow:Detecting that an object or model or tf.train.Checkpoint is being deleted with unrestored values. See the following logs for the specific values in question. To silence these warnings, use `status.expect_partial()`. See https://www.tensorflow.org/api_docs/python/tf/train/Checkpoint#restorefor details about the status object returned by the restore function.\n"
     ]
    },
    {
     "name": "stderr",
     "output_type": "stream",
     "text": [
      "WARNING:tensorflow:Detecting that an object or model or tf.train.Checkpoint is being deleted with unrestored values. See the following logs for the specific values in question. To silence these warnings, use `status.expect_partial()`. See https://www.tensorflow.org/api_docs/python/tf/train/Checkpoint#restorefor details about the status object returned by the restore function.\n"
     ]
    },
    {
     "name": "stdout",
     "output_type": "stream",
     "text": [
      "WARNING:tensorflow:Value in checkpoint could not be found in the restored object: (root).keras_api.metrics.0.total\n"
     ]
    },
    {
     "name": "stderr",
     "output_type": "stream",
     "text": [
      "WARNING:tensorflow:Value in checkpoint could not be found in the restored object: (root).keras_api.metrics.0.total\n"
     ]
    },
    {
     "name": "stdout",
     "output_type": "stream",
     "text": [
      "WARNING:tensorflow:Value in checkpoint could not be found in the restored object: (root).keras_api.metrics.0.count\n"
     ]
    },
    {
     "name": "stderr",
     "output_type": "stream",
     "text": [
      "WARNING:tensorflow:Value in checkpoint could not be found in the restored object: (root).keras_api.metrics.0.count\n"
     ]
    },
    {
     "name": "stdout",
     "output_type": "stream",
     "text": [
      "INFO:tensorflow:Assets written to: C:\\Users\\fbrouet\\AppData\\Local\\Temp\\tmpbg0lqfkf\\assets\n"
     ]
    },
    {
     "name": "stderr",
     "output_type": "stream",
     "text": [
      "INFO:tensorflow:Assets written to: C:\\Users\\fbrouet\\AppData\\Local\\Temp\\tmpbg0lqfkf\\assets\n"
     ]
    },
    {
     "name": "stdout",
     "output_type": "stream",
     "text": [
      "INFO:tensorflow:Assets written to: C:\\Users\\fbrouet\\AppData\\Local\\Temp\\tmpjhd8eq9u\\assets\n"
     ]
    },
    {
     "name": "stderr",
     "output_type": "stream",
     "text": [
      "INFO:tensorflow:Assets written to: C:\\Users\\fbrouet\\AppData\\Local\\Temp\\tmpjhd8eq9u\\assets\n"
     ]
    },
    {
     "name": "stdout",
     "output_type": "stream",
     "text": [
      "INFO:tensorflow:Assets written to: C:\\Users\\fbrouet\\AppData\\Local\\Temp\\tmpcsebr0re\\assets\n"
     ]
    },
    {
     "name": "stderr",
     "output_type": "stream",
     "text": [
      "INFO:tensorflow:Assets written to: C:\\Users\\fbrouet\\AppData\\Local\\Temp\\tmpcsebr0re\\assets\n"
     ]
    },
    {
     "name": "stdout",
     "output_type": "stream",
     "text": [
      "INFO:tensorflow:Assets written to: C:\\Users\\fbrouet\\AppData\\Local\\Temp\\tmp92b8r7lz\\assets\n"
     ]
    },
    {
     "name": "stderr",
     "output_type": "stream",
     "text": [
      "INFO:tensorflow:Assets written to: C:\\Users\\fbrouet\\AppData\\Local\\Temp\\tmp92b8r7lz\\assets\n"
     ]
    },
    {
     "name": "stdout",
     "output_type": "stream",
     "text": [
      "Score mean R²: 0.5313394756644451\n",
      "Score standard deviation R²: 0.0667541677642013\n"
     ]
    }
   ],
   "source": [
    "estimator = KerasRegressor(model=model_0, epochs=100, batch_size=32, verbose=0)\n",
    "scores = cross_val_score(estimator, X_train, y_train, cv=kfold)\n",
    "print ('Score mean R²:', scores.mean())\n",
    "print ('Score standard deviation R²:', scores.std())"
   ]
  },
  {
   "cell_type": "markdown",
   "metadata": {},
   "source": [
    "The baseline model is fitted first with 100 epochs and a batch size of 32 samples. The training information is stored in the history object:"
   ]
  },
  {
   "cell_type": "code",
   "execution_count": 46,
   "metadata": {},
   "outputs": [
    {
     "name": "stdout",
     "output_type": "stream",
     "text": [
      "50/50 [==============================] - 0s 682us/step\n"
     ]
    }
   ],
   "source": [
    "history = model_0.fit(X_train, y_train, epochs=100, batch_size=32, verbose=0, validation_split=0.2)\n",
    "y_pred = model_0.predict(X_test)"
   ]
  },
  {
   "cell_type": "code",
   "execution_count": 47,
   "metadata": {},
   "outputs": [
    {
     "data": {
      "image/png": "[encoded data removed]",
      "text/plain": [
       "<Figure size 600x600 with 1 Axes>"
      ]
     },
     "metadata": {},
     "output_type": "display_data"
    },
    {
     "data": {
      "image/png": "[encoded data removed]",
      "text/plain": [
       "<Figure size 600x600 with 1 Axes>"
      ]
     },
     "metadata": {},
     "output_type": "display_data"
    }
   ],
   "source": [
    "# Plot of the evoluation of the MSE during the training\n",
    "\n",
    "fig = plt.figure(figsize=(6, 6))\n",
    "plt.plot(history.history['loss'], label='Loss (training)')\n",
    "plt.plot(history.history['val_loss'], label='Loss (validation)')\n",
    "plt.xlabel('Epochs')\n",
    "plt.xlabel('Loss')\n",
    "plt.legend()\n",
    "plt.show()\n",
    "\n",
    "fig = plt.figure(figsize=(6, 6))\n",
    "plt.scatter(y_pred, y_test)\n",
    "plt.plot([0, 20], [0, 20], color='r')\n",
    "plt.xlabel('NRDD predictions')\n",
    "plt.ylabel('NRDD real values')\n",
    "plt.show()"
   ]
  },
  {
   "cell_type": "markdown",
   "metadata": {},
   "source": [
    "The trend of the loss function is dropping during the first 20 epochs. The predictions remain not stable afterwards. We can also see that the model has not yet over-learned the training dataset since it shows comparable skill on train and validation sets."
   ]
  },
  {
   "cell_type": "markdown",
   "metadata": {},
   "source": [
    "### Modeling the standardized dataset with a pipeline and perform some transformations to the target variable"
   ]
  },
  {
   "cell_type": "markdown",
   "metadata": {},
   "source": [
    "The pipeline framework performs the standardization during the model evaluation process and prevents data leakage from each test set cross validation fold into the training data. We will try to predict a transformation of the NRDD instead of the target variable itself. The cross-validation scoring will highlight the best transformation."
   ]
  },
  {
   "cell_type": "code",
   "execution_count": 48,
   "metadata": {},
   "outputs": [],
   "source": [
    "preprocessor = ColumnTransformer(\n",
    "                        transformers=[\n",
    "                                ('numerical', StandardScaler(), lst_expl),\n",
    "                                ('categorical', 'passthrough', lst_slot_class)]                              \n",
    "                        )\n",
    "\n",
    "pipe = Pipeline(steps=[\n",
    "                    ('preprocessor', preprocessor),\n",
    "                    ('mlp', KerasRegressor(model=baseline_model, epochs=100, batch_size=32, validation_split=0.2, verbose=0))\n",
    "                    ])\n",
    "                    "
   ]
  },
  {
   "cell_type": "code",
   "execution_count": 49,
   "metadata": {},
   "outputs": [],
   "source": [
    "X = df_params[lst_expl + lst_slot_class]\n",
    "y = df_params[['long_disp_nrdd']]"
   ]
  },
  {
   "cell_type": "code",
   "execution_count": 50,
   "metadata": {},
   "outputs": [
    {
     "name": "stdout",
     "output_type": "stream",
     "text": [
      "---------------\n",
      "** Transformation: NoTransformation\n",
      "---------------\n",
      "** Transformation: Inverse\n",
      "WARNING:tensorflow:Detecting that an object or model or tf.train.Checkpoint is being deleted with unrestored values. See the following logs for the specific values in question. To silence these warnings, use `status.expect_partial()`. See https://www.tensorflow.org/api_docs/python/tf/train/Checkpoint#restorefor details about the status object returned by the restore function.\n"
     ]
    },
    {
     "name": "stderr",
     "output_type": "stream",
     "text": [
      "WARNING:tensorflow:Detecting that an object or model or tf.train.Checkpoint is being deleted with unrestored values. See the following logs for the specific values in question. To silence these warnings, use `status.expect_partial()`. See https://www.tensorflow.org/api_docs/python/tf/train/Checkpoint#restorefor details about the status object returned by the restore function.\n"
     ]
    },
    {
     "name": "stdout",
     "output_type": "stream",
     "text": [
      "WARNING:tensorflow:Value in checkpoint could not be found in the restored object: (root).keras_api.metrics.0.total\n"
     ]
    },
    {
     "name": "stderr",
     "output_type": "stream",
     "text": [
      "WARNING:tensorflow:Value in checkpoint could not be found in the restored object: (root).keras_api.metrics.0.total\n"
     ]
    },
    {
     "name": "stdout",
     "output_type": "stream",
     "text": [
      "WARNING:tensorflow:Value in checkpoint could not be found in the restored object: (root).keras_api.metrics.0.count\n"
     ]
    },
    {
     "name": "stderr",
     "output_type": "stream",
     "text": [
      "WARNING:tensorflow:Value in checkpoint could not be found in the restored object: (root).keras_api.metrics.0.count\n"
     ]
    },
    {
     "name": "stdout",
     "output_type": "stream",
     "text": [
      "WARNING:tensorflow:Detecting that an object or model or tf.train.Checkpoint is being deleted with unrestored values. See the following logs for the specific values in question. To silence these warnings, use `status.expect_partial()`. See https://www.tensorflow.org/api_docs/python/tf/train/Checkpoint#restorefor details about the status object returned by the restore function.\n"
     ]
    },
    {
     "name": "stderr",
     "output_type": "stream",
     "text": [
      "WARNING:tensorflow:Detecting that an object or model or tf.train.Checkpoint is being deleted with unrestored values. See the following logs for the specific values in question. To silence these warnings, use `status.expect_partial()`. See https://www.tensorflow.org/api_docs/python/tf/train/Checkpoint#restorefor details about the status object returned by the restore function.\n"
     ]
    },
    {
     "name": "stdout",
     "output_type": "stream",
     "text": [
      "WARNING:tensorflow:Value in checkpoint could not be found in the restored object: (root).keras_api.metrics.0.total\n"
     ]
    },
    {
     "name": "stderr",
     "output_type": "stream",
     "text": [
      "WARNING:tensorflow:Value in checkpoint could not be found in the restored object: (root).keras_api.metrics.0.total\n"
     ]
    },
    {
     "name": "stdout",
     "output_type": "stream",
     "text": [
      "WARNING:tensorflow:Value in checkpoint could not be found in the restored object: (root).keras_api.metrics.0.count\n"
     ]
    },
    {
     "name": "stderr",
     "output_type": "stream",
     "text": [
      "WARNING:tensorflow:Value in checkpoint could not be found in the restored object: (root).keras_api.metrics.0.count\n"
     ]
    },
    {
     "name": "stdout",
     "output_type": "stream",
     "text": [
      "WARNING:tensorflow:Detecting that an object or model or tf.train.Checkpoint is being deleted with unrestored values. See the following logs for the specific values in question. To silence these warnings, use `status.expect_partial()`. See https://www.tensorflow.org/api_docs/python/tf/train/Checkpoint#restorefor details about the status object returned by the restore function.\n"
     ]
    },
    {
     "name": "stderr",
     "output_type": "stream",
     "text": [
      "WARNING:tensorflow:Detecting that an object or model or tf.train.Checkpoint is being deleted with unrestored values. See the following logs for the specific values in question. To silence these warnings, use `status.expect_partial()`. See https://www.tensorflow.org/api_docs/python/tf/train/Checkpoint#restorefor details about the status object returned by the restore function.\n"
     ]
    },
    {
     "name": "stdout",
     "output_type": "stream",
     "text": [
      "WARNING:tensorflow:Value in checkpoint could not be found in the restored object: (root).keras_api.metrics.0.total\n"
     ]
    },
    {
     "name": "stderr",
     "output_type": "stream",
     "text": [
      "WARNING:tensorflow:Value in checkpoint could not be found in the restored object: (root).keras_api.metrics.0.total\n"
     ]
    },
    {
     "name": "stdout",
     "output_type": "stream",
     "text": [
      "WARNING:tensorflow:Value in checkpoint could not be found in the restored object: (root).keras_api.metrics.0.count\n"
     ]
    },
    {
     "name": "stderr",
     "output_type": "stream",
     "text": [
      "WARNING:tensorflow:Value in checkpoint could not be found in the restored object: (root).keras_api.metrics.0.count\n"
     ]
    },
    {
     "name": "stdout",
     "output_type": "stream",
     "text": [
      "WARNING:tensorflow:Detecting that an object or model or tf.train.Checkpoint is being deleted with unrestored values. See the following logs for the specific values in question. To silence these warnings, use `status.expect_partial()`. See https://www.tensorflow.org/api_docs/python/tf/train/Checkpoint#restorefor details about the status object returned by the restore function.\n"
     ]
    },
    {
     "name": "stderr",
     "output_type": "stream",
     "text": [
      "WARNING:tensorflow:Detecting that an object or model or tf.train.Checkpoint is being deleted with unrestored values. See the following logs for the specific values in question. To silence these warnings, use `status.expect_partial()`. See https://www.tensorflow.org/api_docs/python/tf/train/Checkpoint#restorefor details about the status object returned by the restore function.\n"
     ]
    },
    {
     "name": "stdout",
     "output_type": "stream",
     "text": [
      "WARNING:tensorflow:Value in checkpoint could not be found in the restored object: (root).keras_api.metrics.0.total\n"
     ]
    },
    {
     "name": "stderr",
     "output_type": "stream",
     "text": [
      "WARNING:tensorflow:Value in checkpoint could not be found in the restored object: (root).keras_api.metrics.0.total\n"
     ]
    },
    {
     "name": "stdout",
     "output_type": "stream",
     "text": [
      "WARNING:tensorflow:Value in checkpoint could not be found in the restored object: (root).keras_api.metrics.0.count\n"
     ]
    },
    {
     "name": "stderr",
     "output_type": "stream",
     "text": [
      "WARNING:tensorflow:Value in checkpoint could not be found in the restored object: (root).keras_api.metrics.0.count\n"
     ]
    },
    {
     "name": "stdout",
     "output_type": "stream",
     "text": [
      "WARNING:tensorflow:Detecting that an object or model or tf.train.Checkpoint is being deleted with unrestored values. See the following logs for the specific values in question. To silence these warnings, use `status.expect_partial()`. See https://www.tensorflow.org/api_docs/python/tf/train/Checkpoint#restorefor details about the status object returned by the restore function.\n"
     ]
    },
    {
     "name": "stderr",
     "output_type": "stream",
     "text": [
      "WARNING:tensorflow:Detecting that an object or model or tf.train.Checkpoint is being deleted with unrestored values. See the following logs for the specific values in question. To silence these warnings, use `status.expect_partial()`. See https://www.tensorflow.org/api_docs/python/tf/train/Checkpoint#restorefor details about the status object returned by the restore function.\n"
     ]
    },
    {
     "name": "stdout",
     "output_type": "stream",
     "text": [
      "WARNING:tensorflow:Value in checkpoint could not be found in the restored object: (root).keras_api.metrics.0.total\n"
     ]
    },
    {
     "name": "stderr",
     "output_type": "stream",
     "text": [
      "WARNING:tensorflow:Value in checkpoint could not be found in the restored object: (root).keras_api.metrics.0.total\n"
     ]
    },
    {
     "name": "stdout",
     "output_type": "stream",
     "text": [
      "WARNING:tensorflow:Value in checkpoint could not be found in the restored object: (root).keras_api.metrics.0.count\n"
     ]
    },
    {
     "name": "stderr",
     "output_type": "stream",
     "text": [
      "WARNING:tensorflow:Value in checkpoint could not be found in the restored object: (root).keras_api.metrics.0.count\n"
     ]
    },
    {
     "name": "stdout",
     "output_type": "stream",
     "text": [
      "---------------\n",
      "** Transformation: InverseSquare\n",
      "---------------\n",
      "** Transformation: Logarithm\n",
      "---------------\n",
      "** Transformation: InverseLogarithm\n",
      "---------------\n",
      "** Transformation: LogarithmInverse\n",
      "---------------\n",
      "** Transformation: StandardScaler\n",
      "---------------\n",
      "** Transformation: PowerTransformer\n",
      "---------------\n",
      "** Transformation: QuantileTransformer\n",
      "---------------\n",
      "** Transformation: RobustScaler\n",
      "---------------\n",
      "** Transformation: RootSquare\n",
      "---------------\n",
      "** Transformation: InverseRootSquare\n"
     ]
    },
    {
     "data": {
      "text/html": [
       "<div>\n",
       "<style scoped>\n",
       "    .dataframe tbody tr th:only-of-type {\n",
       "        vertical-align: middle;\n",
       "    }\n",
       "\n",
       "    .dataframe tbody tr th {\n",
       "        vertical-align: top;\n",
       "    }\n",
       "\n",
       "    .dataframe thead th {\n",
       "        text-align: right;\n",
       "    }\n",
       "</style>\n",
       "<table border=\"1\" class=\"dataframe\">\n",
       "  <thead>\n",
       "    <tr style=\"text-align: right;\">\n",
       "      <th></th>\n",
       "      <th>NoTransformation</th>\n",
       "      <th>Inverse</th>\n",
       "      <th>InverseSquare</th>\n",
       "      <th>Logarithm</th>\n",
       "      <th>InverseLogarithm</th>\n",
       "      <th>LogarithmInverse</th>\n",
       "      <th>StandardScaler</th>\n",
       "      <th>PowerTransformer</th>\n",
       "      <th>QuantileTransformer</th>\n",
       "      <th>RobustScaler</th>\n",
       "      <th>RootSquare</th>\n",
       "      <th>InverseRootSquare</th>\n",
       "    </tr>\n",
       "  </thead>\n",
       "  <tbody>\n",
       "    <tr>\n",
       "      <th>Score Mean</th>\n",
       "      <td>0.526962</td>\n",
       "      <td>0.060043</td>\n",
       "      <td>-0.20658</td>\n",
       "      <td>0.352796</td>\n",
       "      <td>0.430169</td>\n",
       "      <td>0.405230</td>\n",
       "      <td>0.341592</td>\n",
       "      <td>0.558783</td>\n",
       "      <td>0.455337</td>\n",
       "      <td>0.397212</td>\n",
       "      <td>0.467026</td>\n",
       "      <td>0.107562</td>\n",
       "    </tr>\n",
       "    <tr>\n",
       "      <th>Standard Deviation</th>\n",
       "      <td>0.049655</td>\n",
       "      <td>0.226095</td>\n",
       "      <td>0.07796</td>\n",
       "      <td>0.211038</td>\n",
       "      <td>0.063088</td>\n",
       "      <td>0.067946</td>\n",
       "      <td>0.115209</td>\n",
       "      <td>0.052739</td>\n",
       "      <td>0.101132</td>\n",
       "      <td>0.035694</td>\n",
       "      <td>0.057768</td>\n",
       "      <td>0.266194</td>\n",
       "    </tr>\n",
       "  </tbody>\n",
       "</table>\n",
       "</div>"
      ],
      "text/plain": [
       "                    NoTransformation   Inverse  InverseSquare  Logarithm  \\\n",
       "Score Mean                  0.526962  0.060043       -0.20658   0.352796   \n",
       "Standard Deviation          0.049655  0.226095        0.07796   0.211038   \n",
       "\n",
       "                    InverseLogarithm  LogarithmInverse  StandardScaler  \\\n",
       "Score Mean                  0.430169          0.405230        0.341592   \n",
       "Standard Deviation          0.063088          0.067946        0.115209   \n",
       "\n",
       "                    PowerTransformer  QuantileTransformer  RobustScaler  \\\n",
       "Score Mean                  0.558783             0.455337      0.397212   \n",
       "Standard Deviation          0.052739             0.101132      0.035694   \n",
       "\n",
       "                    RootSquare  InverseRootSquare  \n",
       "Score Mean            0.467026           0.107562  \n",
       "Standard Deviation    0.057768           0.266194  "
      ]
     },
     "execution_count": 50,
     "metadata": {},
     "output_type": "execute_result"
    }
   ],
   "source": [
    "dict_transfs = {'NoTransformation': FunctionTransformer(lambda y: y),\n",
    "                'Inverse': FunctionTransformer(lambda y: 1/y),\n",
    "                'InverseSquare': FunctionTransformer(lambda y: 1/y**2),\n",
    "                'Logarithm': FunctionTransformer(np.log10),\n",
    "                'InverseLogarithm': FunctionTransformer(lambda y: 1/np.log10(y)),\n",
    "                'LogarithmInverse': FunctionTransformer(lambda y: np.log10(1/y)),\n",
    "                'StandardScaler': StandardScaler(),\n",
    "                'PowerTransformer': PowerTransformer(),\n",
    "                'QuantileTransformer': QuantileTransformer(),\n",
    "                'RobustScaler': RobustScaler(),\n",
    "                'RootSquare': FunctionTransformer(lambda y: np.sqrt(y)),\n",
    "                'InverseRootSquare': FunctionTransformer(lambda y: 1/np.sqrt(y))\n",
    "            }\n",
    "\n",
    "results = pd.DataFrame()\n",
    "\n",
    "for name, transf in dict_transfs.items():\n",
    "\n",
    "    print ('---------------')\n",
    "    print ('** Transformation:', name)\n",
    "\n",
    "    y_transf = transf.fit_transform(y)    \n",
    "    X_train, X_test, y_train, y_test = train_test_split(X, y_transf, test_size = 0.2, random_state=55)\n",
    "\n",
    "    scores = cross_val_score(pipe, X_train, y_train, cv=kfold)\n",
    "    results[name] = pd.DataFrame([scores.mean(), scores.std()], index=['Score Mean', 'Standard Deviation'])\n",
    "\n",
    "results"
   ]
  },
  {
   "cell_type": "markdown",
   "metadata": {},
   "source": [
    "The PowerTransformer provides the best score of cross-validation and will be chosen in the next optimization steps. This transformation is used to make numerical data more Gaussian-like by stabilizing variance and reducing skewness."
   ]
  },
  {
   "cell_type": "markdown",
   "metadata": {},
   "source": [
    "### First tuning of the Neural Network topology"
   ]
  },
  {
   "cell_type": "markdown",
   "metadata": {},
   "source": [
    "The following models will work with the transformed target variable. The structure of a network network is the biggest leverage to improve the performance of the model (number of layers and neurons, activation functions, ...). Then we use the GridSearch technique to optimize this model hyperparameters."
   ]
  },
  {
   "cell_type": "code",
   "execution_count": 51,
   "metadata": {},
   "outputs": [],
   "source": [
    "X = df_params[lst_expl + lst_slot_class]\n",
    "y = df_params[['long_disp_nrdd']]\n",
    "\n",
    "transf = PowerTransformer()\n",
    "y_transf = transf.fit_transform(y) \n",
    "\n",
    "X_train, X_test, y_train, y_test = train_test_split(X, y_transf, test_size = 0.2, random_state=55)"
   ]
  },
  {
   "cell_type": "markdown",
   "metadata": {},
   "source": [
    "A new function is defined taking the tuning parameters as arguments:\n",
    "* Number of epochs and batch size\n",
    "* Number of neurons of the hidden layer (default: number of input variables)\n",
    "* Learning rate of the optimizer\n",
    "* Initialization of the network weights\n",
    "* Neuron activation function"
   ]
  },
  {
   "cell_type": "code",
   "execution_count": 61,
   "metadata": {},
   "outputs": [],
   "source": [
    "def tuning_model(init_mode='normal', activation='relu', nb_neurons=num_expl):\n",
    "    model = Sequential()\n",
    "    model.add(Dense(nb_neurons, input_shape=(num_expl,), kernel_initializer=init_mode, activation=activation))\n",
    "    model.add(Dense(1, kernel_initializer=init_mode))\n",
    "    model.compile(loss='mse', optimizer=tf.optimizers.Adam(learning_rate=0.1))\n",
    "    return model\n",
    "\n",
    "preprocessor = ColumnTransformer(\n",
    "                        transformers=[\n",
    "                                ('numerical', StandardScaler(), lst_expl),\n",
    "                                ('categorical', 'passthrough', lst_slot_class)]                              \n",
    "                        )\n",
    "\n",
    "pipe_tuning = Pipeline(steps=[\n",
    "                    ('preprocessor', preprocessor),\n",
    "                    ('mlp', KerasRegressor(model=tuning_model, epochs=100, batch_size=32, validation_split=0.2, verbose=0, shuffle=True, random_state=55))\n",
    "                    ])"
   ]
  },
  {
   "cell_type": "markdown",
   "metadata": {},
   "source": [
    "* The weight initialization is identical for each layer and picked by default according a normal distribution\n",
    "* The default activation function is reLU"
   ]
  },
  {
   "cell_type": "markdown",
   "metadata": {},
   "source": [
    "#### Tune the batch size and number of epochs"
   ]
  },
  {
   "cell_type": "code",
   "execution_count": 62,
   "metadata": {},
   "outputs": [],
   "source": [
    "lst_batch_size = [100, 250, 500, 750, 1000]\n",
    "lst_epochs = [75, 100, 125, 140, 150, 160]\n",
    "params = {'mlp__batch_size': lst_batch_size, 'mlp__epochs': lst_epochs}"
   ]
  },
  {
   "cell_type": "code",
   "execution_count": 63,
   "metadata": {},
   "outputs": [
    {
     "name": "stdout",
     "output_type": "stream",
     "text": [
      "0.716255 (0.021294) with: {'mlp__batch_size': 100, 'mlp__epochs': 75}\n",
      "0.729940 (0.026365) with: {'mlp__batch_size': 100, 'mlp__epochs': 100}\n",
      "0.718818 (0.020268) with: {'mlp__batch_size': 100, 'mlp__epochs': 125}\n",
      "0.744511 (0.024382) with: {'mlp__batch_size': 100, 'mlp__epochs': 140}\n",
      "0.741436 (0.019158) with: {'mlp__batch_size': 100, 'mlp__epochs': 150}\n",
      "0.744471 (0.011927) with: {'mlp__batch_size': 100, 'mlp__epochs': 160}\n",
      "0.770499 (0.019211) with: {'mlp__batch_size': 250, 'mlp__epochs': 75}\n",
      "0.779474 (0.018995) with: {'mlp__batch_size': 250, 'mlp__epochs': 100}\n",
      "0.731223 (0.032184) with: {'mlp__batch_size': 250, 'mlp__epochs': 125}\n",
      "0.779398 (0.027082) with: {'mlp__batch_size': 250, 'mlp__epochs': 140}\n",
      "0.774294 (0.024573) with: {'mlp__batch_size': 250, 'mlp__epochs': 150}\n",
      "0.774663 (0.021521) with: {'mlp__batch_size': 250, 'mlp__epochs': 160}\n",
      "0.782627 (0.014745) with: {'mlp__batch_size': 500, 'mlp__epochs': 75}\n",
      "0.783378 (0.009811) with: {'mlp__batch_size': 500, 'mlp__epochs': 100}\n",
      "0.782716 (0.021477) with: {'mlp__batch_size': 500, 'mlp__epochs': 125}\n",
      "0.785536 (0.005123) with: {'mlp__batch_size': 500, 'mlp__epochs': 140}\n",
      "0.792383 (0.005856) with: {'mlp__batch_size': 500, 'mlp__epochs': 150}\n",
      "0.776683 (0.013061) with: {'mlp__batch_size': 500, 'mlp__epochs': 160}\n",
      "0.800365 (0.027875) with: {'mlp__batch_size': 750, 'mlp__epochs': 75}\n",
      "0.801185 (0.016921) with: {'mlp__batch_size': 750, 'mlp__epochs': 100}\n",
      "0.796904 (0.013924) with: {'mlp__batch_size': 750, 'mlp__epochs': 125}\n",
      "0.804294 (0.010230) with: {'mlp__batch_size': 750, 'mlp__epochs': 140}\n",
      "0.807405 (0.011137) with: {'mlp__batch_size': 750, 'mlp__epochs': 150}\n",
      "0.807889 (0.021204) with: {'mlp__batch_size': 750, 'mlp__epochs': 160}\n",
      "0.785706 (0.017261) with: {'mlp__batch_size': 1000, 'mlp__epochs': 75}\n",
      "0.796483 (0.022390) with: {'mlp__batch_size': 1000, 'mlp__epochs': 100}\n",
      "0.803921 (0.016754) with: {'mlp__batch_size': 1000, 'mlp__epochs': 125}\n",
      "0.781899 (0.026831) with: {'mlp__batch_size': 1000, 'mlp__epochs': 140}\n",
      "0.788023 (0.018959) with: {'mlp__batch_size': 1000, 'mlp__epochs': 150}\n",
      "0.773668 (0.009174) with: {'mlp__batch_size': 1000, 'mlp__epochs': 160}\n",
      "Best score: 0.8078886109252196\n",
      "Best parameters: {'mlp__batch_size': 750, 'mlp__epochs': 160}\n"
     ]
    }
   ],
   "source": [
    "grid = GridSearchCV(estimator=pipe_tuning, param_grid=params, n_jobs=-1, cv=5)\n",
    "grid_result = grid.fit(X_train, y_train)\n",
    "\n",
    "means = grid_result.cv_results_['mean_test_score']\n",
    "stds = grid_result.cv_results_['std_test_score']\n",
    "parameters = grid_result.cv_results_['params']\n",
    "\n",
    "for mean, std, parameter in zip(means, stds, parameters):\n",
    "    print ('%f (%f) with: %r' % (mean, std, parameter))\n",
    "\n",
    "print ('Best score:', grid_result.best_score_)\n",
    "print ('Best parameters:', grid_result.best_params_)"
   ]
  },
  {
   "cell_type": "markdown",
   "metadata": {},
   "source": [
    "* Best batch size: 750\n",
    "* Best number of epochs: 160"
   ]
  },
  {
   "cell_type": "markdown",
   "metadata": {},
   "source": [
    "#### Tune the learning rate of the Adam optimizer"
   ]
  },
  {
   "cell_type": "code",
   "execution_count": 64,
   "metadata": {},
   "outputs": [],
   "source": [
    "def start_tuning_model(init_mode='normal', activation='relu', nb_neurons=num_expl):\n",
    "    model = Sequential()\n",
    "    model.add(Dense(nb_neurons, input_shape=(num_expl,), kernel_initializer=init_mode, activation=activation))\n",
    "    model.add(Dense(1, kernel_initializer=init_mode))\n",
    "    return model\n",
    "\n",
    "preprocessor = ColumnTransformer(\n",
    "                        transformers=[\n",
    "                                ('numerical', StandardScaler(), lst_expl),\n",
    "                                ('categorical', 'passthrough', lst_slot_class)]                              \n",
    "                        )\n",
    "\n",
    "pipe_start_tuning = Pipeline(steps=[\n",
    "                    ('preprocessor', preprocessor),\n",
    "                    ('mlp', KerasRegressor(model=start_tuning_model, loss='mse', optimizer='Adam', epochs=160, batch_size=750, validation_split=0.2, verbose=0, shuffle=True, random_state=55))\n",
    "                    ])"
   ]
  },
  {
   "cell_type": "code",
   "execution_count": 65,
   "metadata": {},
   "outputs": [
    {
     "name": "stdout",
     "output_type": "stream",
     "text": [
      "0.792700 (0.014071) with: {'mlp__optimizer__learning_rate': 0.01}\n",
      "0.811887 (0.016678) with: {'mlp__optimizer__learning_rate': 0.01438449888287663}\n",
      "0.804930 (0.013333) with: {'mlp__optimizer__learning_rate': 0.0206913808111479}\n",
      "0.814415 (0.014709) with: {'mlp__optimizer__learning_rate': 0.029763514416313176}\n",
      "0.808725 (0.016422) with: {'mlp__optimizer__learning_rate': 0.04281332398719394}\n",
      "0.813223 (0.016229) with: {'mlp__optimizer__learning_rate': 0.06158482110660264}\n",
      "0.801154 (0.021463) with: {'mlp__optimizer__learning_rate': 0.08858667904100823}\n",
      "0.785551 (0.014013) with: {'mlp__optimizer__learning_rate': 0.12742749857031335}\n",
      "0.797148 (0.012063) with: {'mlp__optimizer__learning_rate': 0.18329807108324356}\n",
      "0.780385 (0.018206) with: {'mlp__optimizer__learning_rate': 0.26366508987303583}\n",
      "0.757100 (0.030335) with: {'mlp__optimizer__learning_rate': 0.37926901907322497}\n",
      "0.723728 (0.046398) with: {'mlp__optimizer__learning_rate': 0.5455594781168517}\n",
      "0.620315 (0.101014) with: {'mlp__optimizer__learning_rate': 0.7847599703514611}\n",
      "0.380099 (0.192744) with: {'mlp__optimizer__learning_rate': 1.1288378916846884}\n",
      "-0.662052 (1.731245) with: {'mlp__optimizer__learning_rate': 1.623776739188721}\n",
      "-4.930440 (7.502242) with: {'mlp__optimizer__learning_rate': 2.3357214690901213}\n",
      "-16.577075 (26.463433) with: {'mlp__optimizer__learning_rate': 3.359818286283781}\n",
      "-79.027683 (101.409108) with: {'mlp__optimizer__learning_rate': 4.832930238571752}\n",
      "-199.913206 (261.151204) with: {'mlp__optimizer__learning_rate': 6.951927961775605}\n",
      "-966.403142 (1651.387138) with: {'mlp__optimizer__learning_rate': 10.0}\n",
      "Best score: 0.8144154549193695\n",
      "Best parameters: {'mlp__optimizer__learning_rate': 0.029763514416313176}\n"
     ]
    }
   ],
   "source": [
    "lst_learning_rate = np.linspace(-2, 1, 20)\n",
    "params = {'mlp__optimizer__learning_rate': 10**lst_learning_rate} \n",
    "\n",
    "grid = GridSearchCV(estimator=pipe_start_tuning, param_grid=params, n_jobs=-1, cv=5)\n",
    "grid_result = grid.fit(X_train, y_train)\n",
    "\n",
    "means = grid_result.cv_results_['mean_test_score']\n",
    "stds = grid_result.cv_results_['std_test_score']\n",
    "parameters = grid_result.cv_results_['params']\n",
    "\n",
    "for mean, std, parameter in zip(means, stds, parameters):\n",
    "    print ('%f (%f) with: %r' % (mean, std, parameter))\n",
    "\n",
    "print ('Best score:', grid_result.best_score_)\n",
    "print ('Best parameters:', grid_result.best_params_)"
   ]
  },
  {
   "cell_type": "markdown",
   "metadata": {},
   "source": [
    "The learning rate shows an optimum between 0.02 and 0.04. The value 0.0230 is kept for the further optimizations."
   ]
  },
  {
   "cell_type": "markdown",
   "metadata": {},
   "source": [
    "#### Tune the number of neurons of the hidden layer"
   ]
  },
  {
   "cell_type": "markdown",
   "metadata": {},
   "source": [
    "In the baseline model, the hidden layer has the same size as the input layer. We tune it between 15 and 34 neurons."
   ]
  },
  {
   "cell_type": "code",
   "execution_count": 66,
   "metadata": {},
   "outputs": [],
   "source": [
    "def start_tuning_model(init_mode='normal', activation='relu', nb_neurons=num_expl):\n",
    "    model = Sequential()\n",
    "    model.add(Dense(nb_neurons, input_shape=(num_expl,), kernel_initializer=init_mode, activation=activation))\n",
    "    model.add(Dense(1, kernel_initializer=init_mode))\n",
    "    model.compile(loss='mse', optimizer=Adam(learning_rate=0.0230))\n",
    "\n",
    "    return model\n",
    "\n",
    "preprocessor = ColumnTransformer(\n",
    "                        transformers=[\n",
    "                                ('numerical', StandardScaler(), lst_expl),\n",
    "                                ('categorical', 'passthrough', lst_slot_class)]                              \n",
    "                        )\n",
    "\n",
    "pipe_start_tuning = Pipeline(steps=[\n",
    "                    ('preprocessor', preprocessor),\n",
    "                    ('mlp', KerasRegressor(model=start_tuning_model, epochs=160, batch_size=750, validation_split=0.2, verbose=0, shuffle=True, random_state=55))\n",
    "                    ])"
   ]
  },
  {
   "cell_type": "code",
   "execution_count": 67,
   "metadata": {},
   "outputs": [
    {
     "name": "stdout",
     "output_type": "stream",
     "text": [
      "0.804799 (0.012645) with: {'mlp__model__nb_neurons': 15}\n",
      "0.797643 (0.015929) with: {'mlp__model__nb_neurons': 16}\n",
      "0.817699 (0.014634) with: {'mlp__model__nb_neurons': 17}\n",
      "0.807482 (0.008420) with: {'mlp__model__nb_neurons': 18}\n",
      "0.802285 (0.011767) with: {'mlp__model__nb_neurons': 19}\n",
      "0.800438 (0.017358) with: {'mlp__model__nb_neurons': 20}\n",
      "0.794768 (0.009680) with: {'mlp__model__nb_neurons': 21}\n",
      "0.810044 (0.017320) with: {'mlp__model__nb_neurons': 22}\n",
      "0.808424 (0.026310) with: {'mlp__model__nb_neurons': 23}\n",
      "0.814003 (0.020195) with: {'mlp__model__nb_neurons': 24}\n",
      "0.810281 (0.012491) with: {'mlp__model__nb_neurons': 25}\n",
      "0.808821 (0.019066) with: {'mlp__model__nb_neurons': 26}\n",
      "0.803461 (0.022744) with: {'mlp__model__nb_neurons': 27}\n",
      "0.804554 (0.013074) with: {'mlp__model__nb_neurons': 28}\n",
      "0.816055 (0.020070) with: {'mlp__model__nb_neurons': 29}\n",
      "0.816969 (0.008512) with: {'mlp__model__nb_neurons': 30}\n",
      "0.812745 (0.017744) with: {'mlp__model__nb_neurons': 31}\n",
      "0.812690 (0.021920) with: {'mlp__model__nb_neurons': 32}\n",
      "0.811888 (0.013092) with: {'mlp__model__nb_neurons': 33}\n",
      "0.810960 (0.018393) with: {'mlp__model__nb_neurons': 34}\n",
      "Best score: 0.8176994796015157\n",
      "Best parameters: {'mlp__model__nb_neurons': 17}\n"
     ]
    }
   ],
   "source": [
    "lst_nb_neurons = np.arange(15, 35, 1)\n",
    "params = {'mlp__model__nb_neurons': lst_nb_neurons}\n",
    "\n",
    "grid = GridSearchCV(estimator=pipe_start_tuning, param_grid=params, n_jobs=-1, cv=5)\n",
    "grid_result = grid.fit(X_train, y_train)\n",
    "\n",
    "means = grid_result.cv_results_['mean_test_score']\n",
    "stds = grid_result.cv_results_['std_test_score']\n",
    "parameters = grid_result.cv_results_['params']\n",
    "\n",
    "for mean, std, parameter in zip(means, stds, parameters):\n",
    "    print ('%f (%f) with: %r' % (mean, std, parameter))\n",
    "\n",
    "print ('Best score:', grid_result.best_score_)\n",
    "print ('Best parameters:', grid_result.best_params_)"
   ]
  },
  {
   "cell_type": "markdown",
   "metadata": {},
   "source": [
    "* Best number of neurons for the hidden layer: 17"
   ]
  },
  {
   "cell_type": "markdown",
   "metadata": {},
   "source": [
    "#### Tune the weight initialization and the activation function"
   ]
  },
  {
   "cell_type": "code",
   "execution_count": 68,
   "metadata": {},
   "outputs": [],
   "source": [
    "def start_tuning_model(init_mode='normal', activation='relu'):\n",
    "    model = Sequential()\n",
    "    model.add(Dense(17, input_shape=(num_expl,), kernel_initializer=init_mode, activation=activation))\n",
    "    model.add(Dense(1, kernel_initializer=init_mode))\n",
    "    model.compile(loss='mse', optimizer=Adam(learning_rate=0.0230))\n",
    "    \n",
    "    return model\n",
    "\n",
    "preprocessor = ColumnTransformer(\n",
    "                        transformers=[\n",
    "                                ('numerical', StandardScaler(), lst_expl),\n",
    "                                ('categorical', 'passthrough', lst_slot_class)]                              \n",
    "                        )\n",
    "\n",
    "pipe_start_tuning = Pipeline(steps=[\n",
    "                    ('preprocessor', preprocessor),\n",
    "                    ('mlp', KerasRegressor(model=start_tuning_model, epochs=160, batch_size=750, validation_split=0.2, verbose=0, shuffle=True, random_state=55))\n",
    "                    ])"
   ]
  },
  {
   "cell_type": "code",
   "execution_count": 69,
   "metadata": {},
   "outputs": [
    {
     "name": "stdout",
     "output_type": "stream",
     "text": [
      "0.817699 (0.014634) with: {'mlp__model__activation': 'relu', 'mlp__model__init_mode': 'normal'}\n",
      "0.806581 (0.024033) with: {'mlp__model__activation': 'relu', 'mlp__model__init_mode': 'uniform'}\n",
      "0.818553 (0.016339) with: {'mlp__model__activation': 'relu', 'mlp__model__init_mode': 'lecun_uniform'}\n",
      "-0.000679 (0.001237) with: {'mlp__model__activation': 'relu', 'mlp__model__init_mode': 'zero'}\n",
      "0.786381 (0.014667) with: {'mlp__model__activation': 'relu', 'mlp__model__init_mode': 'glorot_normal'}\n",
      "0.797192 (0.017292) with: {'mlp__model__activation': 'relu', 'mlp__model__init_mode': 'glorot_uniform'}\n",
      "0.785258 (0.017372) with: {'mlp__model__activation': 'relu', 'mlp__model__init_mode': 'he_normal'}\n",
      "0.788752 (0.017208) with: {'mlp__model__activation': 'relu', 'mlp__model__init_mode': 'he_uniform'}\n",
      "0.839979 (0.019428) with: {'mlp__model__activation': 'softmax', 'mlp__model__init_mode': 'normal'}\n",
      "0.833365 (0.016573) with: {'mlp__model__activation': 'softmax', 'mlp__model__init_mode': 'uniform'}\n",
      "0.845450 (0.014910) with: {'mlp__model__activation': 'softmax', 'mlp__model__init_mode': 'lecun_uniform'}\n",
      "-0.001300 (0.002323) with: {'mlp__model__activation': 'softmax', 'mlp__model__init_mode': 'zero'}\n",
      "0.829976 (0.015287) with: {'mlp__model__activation': 'softmax', 'mlp__model__init_mode': 'glorot_normal'}\n",
      "0.846590 (0.015581) with: {'mlp__model__activation': 'softmax', 'mlp__model__init_mode': 'glorot_uniform'}\n",
      "0.833666 (0.013292) with: {'mlp__model__activation': 'softmax', 'mlp__model__init_mode': 'he_normal'}\n",
      "0.842681 (0.014138) with: {'mlp__model__activation': 'softmax', 'mlp__model__init_mode': 'he_uniform'}\n",
      "0.820014 (0.013623) with: {'mlp__model__activation': 'softplus', 'mlp__model__init_mode': 'normal'}\n",
      "0.811612 (0.015680) with: {'mlp__model__activation': 'softplus', 'mlp__model__init_mode': 'uniform'}\n",
      "0.817328 (0.016339) with: {'mlp__model__activation': 'softplus', 'mlp__model__init_mode': 'lecun_uniform'}\n",
      "0.645872 (0.053101) with: {'mlp__model__activation': 'softplus', 'mlp__model__init_mode': 'zero'}\n",
      "0.796802 (0.011083) with: {'mlp__model__activation': 'softplus', 'mlp__model__init_mode': 'glorot_normal'}\n",
      "0.812001 (0.024032) with: {'mlp__model__activation': 'softplus', 'mlp__model__init_mode': 'glorot_uniform'}\n",
      "0.801145 (0.010775) with: {'mlp__model__activation': 'softplus', 'mlp__model__init_mode': 'he_normal'}\n",
      "0.816365 (0.018901) with: {'mlp__model__activation': 'softplus', 'mlp__model__init_mode': 'he_uniform'}\n",
      "0.784902 (0.019280) with: {'mlp__model__activation': 'softsign', 'mlp__model__init_mode': 'normal'}\n",
      "0.794364 (0.009055) with: {'mlp__model__activation': 'softsign', 'mlp__model__init_mode': 'uniform'}\n",
      "0.784645 (0.012942) with: {'mlp__model__activation': 'softsign', 'mlp__model__init_mode': 'lecun_uniform'}\n",
      "-0.000679 (0.001237) with: {'mlp__model__activation': 'softsign', 'mlp__model__init_mode': 'zero'}\n",
      "0.775923 (0.016969) with: {'mlp__model__activation': 'softsign', 'mlp__model__init_mode': 'glorot_normal'}\n",
      "0.782368 (0.019942) with: {'mlp__model__activation': 'softsign', 'mlp__model__init_mode': 'glorot_uniform'}\n",
      "0.771811 (0.021520) with: {'mlp__model__activation': 'softsign', 'mlp__model__init_mode': 'he_normal'}\n",
      "0.774119 (0.011196) with: {'mlp__model__activation': 'softsign', 'mlp__model__init_mode': 'he_uniform'}\n",
      "0.814491 (0.013360) with: {'mlp__model__activation': 'tanh', 'mlp__model__init_mode': 'normal'}\n",
      "0.818180 (0.013287) with: {'mlp__model__activation': 'tanh', 'mlp__model__init_mode': 'uniform'}\n",
      "0.810809 (0.009251) with: {'mlp__model__activation': 'tanh', 'mlp__model__init_mode': 'lecun_uniform'}\n",
      "-0.000679 (0.001237) with: {'mlp__model__activation': 'tanh', 'mlp__model__init_mode': 'zero'}\n",
      "0.808259 (0.013873) with: {'mlp__model__activation': 'tanh', 'mlp__model__init_mode': 'glorot_normal'}\n",
      "0.803878 (0.018053) with: {'mlp__model__activation': 'tanh', 'mlp__model__init_mode': 'glorot_uniform'}\n",
      "0.805976 (0.009076) with: {'mlp__model__activation': 'tanh', 'mlp__model__init_mode': 'he_normal'}\n",
      "0.804120 (0.012500) with: {'mlp__model__activation': 'tanh', 'mlp__model__init_mode': 'he_uniform'}\n",
      "0.811909 (0.017248) with: {'mlp__model__activation': 'sigmoid', 'mlp__model__init_mode': 'normal'}\n",
      "0.809331 (0.018177) with: {'mlp__model__activation': 'sigmoid', 'mlp__model__init_mode': 'uniform'}\n",
      "0.815647 (0.013609) with: {'mlp__model__activation': 'sigmoid', 'mlp__model__init_mode': 'lecun_uniform'}\n",
      "0.689173 (0.030928) with: {'mlp__model__activation': 'sigmoid', 'mlp__model__init_mode': 'zero'}\n",
      "0.805309 (0.009429) with: {'mlp__model__activation': 'sigmoid', 'mlp__model__init_mode': 'glorot_normal'}\n",
      "0.812513 (0.013384) with: {'mlp__model__activation': 'sigmoid', 'mlp__model__init_mode': 'glorot_uniform'}\n",
      "0.802559 (0.016410) with: {'mlp__model__activation': 'sigmoid', 'mlp__model__init_mode': 'he_normal'}\n",
      "0.812206 (0.013253) with: {'mlp__model__activation': 'sigmoid', 'mlp__model__init_mode': 'he_uniform'}\n",
      "0.804190 (0.018769) with: {'mlp__model__activation': 'hard_sigmoid', 'mlp__model__init_mode': 'normal'}\n",
      "0.809715 (0.009294) with: {'mlp__model__activation': 'hard_sigmoid', 'mlp__model__init_mode': 'uniform'}\n",
      "0.807343 (0.017700) with: {'mlp__model__activation': 'hard_sigmoid', 'mlp__model__init_mode': 'lecun_uniform'}\n",
      "0.598598 (0.024013) with: {'mlp__model__activation': 'hard_sigmoid', 'mlp__model__init_mode': 'zero'}\n",
      "0.798358 (0.018904) with: {'mlp__model__activation': 'hard_sigmoid', 'mlp__model__init_mode': 'glorot_normal'}\n",
      "0.810452 (0.012698) with: {'mlp__model__activation': 'hard_sigmoid', 'mlp__model__init_mode': 'glorot_uniform'}\n",
      "0.794331 (0.012218) with: {'mlp__model__activation': 'hard_sigmoid', 'mlp__model__init_mode': 'he_normal'}\n",
      "0.803672 (0.018577) with: {'mlp__model__activation': 'hard_sigmoid', 'mlp__model__init_mode': 'he_uniform'}\n",
      "0.583704 (0.027633) with: {'mlp__model__activation': 'linear', 'mlp__model__init_mode': 'normal'}\n",
      "0.584011 (0.027224) with: {'mlp__model__activation': 'linear', 'mlp__model__init_mode': 'uniform'}\n",
      "0.584508 (0.026971) with: {'mlp__model__activation': 'linear', 'mlp__model__init_mode': 'lecun_uniform'}\n",
      "-0.000679 (0.001237) with: {'mlp__model__activation': 'linear', 'mlp__model__init_mode': 'zero'}\n",
      "0.583472 (0.027328) with: {'mlp__model__activation': 'linear', 'mlp__model__init_mode': 'glorot_normal'}\n",
      "0.583887 (0.027094) with: {'mlp__model__activation': 'linear', 'mlp__model__init_mode': 'glorot_uniform'}\n",
      "0.582925 (0.027440) with: {'mlp__model__activation': 'linear', 'mlp__model__init_mode': 'he_normal'}\n",
      "0.584148 (0.026859) with: {'mlp__model__activation': 'linear', 'mlp__model__init_mode': 'he_uniform'}\n",
      "Best score: 0.8465895523382221\n",
      "Best parameters: {'mlp__model__activation': 'softmax', 'mlp__model__init_mode': 'glorot_uniform'}\n"
     ]
    }
   ],
   "source": [
    "lst_init_mode = ['normal', 'uniform', 'lecun_uniform', 'zero', 'glorot_normal', 'glorot_uniform', 'he_normal', 'he_uniform']\n",
    "lst_activation = ['relu', 'softmax', 'softplus', 'softsign', 'tanh', 'sigmoid', 'hard_sigmoid', 'linear']\n",
    "params = {'mlp__model__init_mode': lst_init_mode, 'mlp__model__activation': lst_activation}\n",
    "\n",
    "grid = GridSearchCV(estimator=pipe_start_tuning, param_grid=params, n_jobs=-1, cv=5)\n",
    "grid_result = grid.fit(X_train, y_train)\n",
    "\n",
    "means = grid_result.cv_results_['mean_test_score']\n",
    "stds = grid_result.cv_results_['std_test_score']\n",
    "parameters = grid_result.cv_results_['params']\n",
    "\n",
    "for mean, std, parameter in zip(means, stds, parameters):\n",
    "    print ('%f (%f) with: %r' % (mean, std, parameter))\n",
    "\n",
    "print ('Best score:', grid_result.best_score_)\n",
    "print ('Best parameters:', grid_result.best_params_)"
   ]
  },
  {
   "cell_type": "markdown",
   "metadata": {},
   "source": [
    "The best results are obtained for:\n",
    "* the Softmax activation functions\n",
    "* the Glorot uniform initializer.\n"
   ]
  },
  {
   "cell_type": "markdown",
   "metadata": {},
   "source": []
  }
 ],
 "metadata": {
  "kernelspec": {
   "display_name": "fbr",
   "language": "python",
   "name": "python3"
  },
  "language_info": {
   "codemirror_mode": {
    "name": "ipython",
    "version": 3
   },
   "file_extension": ".py",
   "mimetype": "text/x-python",
   "name": "python",
   "nbconvert_exporter": "python",
   "pygments_lexer": "ipython3",
   "version": "3.8.20"
  }
 },
 "nbformat": 4,
 "nbformat_minor": 2
}
