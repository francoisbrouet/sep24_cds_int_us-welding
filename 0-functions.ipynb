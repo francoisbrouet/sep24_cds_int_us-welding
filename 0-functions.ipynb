{
 "cells": [
  {
   "cell_type": "code",
   "execution_count": 1,
   "metadata": {},
   "outputs": [],
   "source": [
    "import numpy as np\n",
    "import matplotlib.pyplot as plt\n",
    "\n"
   ]
  },
  {
   "cell_type": "code",
   "execution_count": 2,
   "metadata": {},
   "outputs": [],
   "source": [
    "def plot_2d_norm_long_disp(idx):\n",
    "    \"\"\"\n",
    "    Visualization of the displacement of the output square [-1:1] as heatmap only\n",
    "    # Arguments\n",
    "    idx:        index of DataFrame\n",
    "    set_zlim:   set min z to 0\n",
    "    \"\"\"\n",
    "    n_res = 20\n",
    "    disp_long = df_disp.loc[[idx]]\n",
    "    dp_no = df_params.loc[idx, 'dp_no']\n",
    "\n",
    "    if disp_long.iloc[0, 0] < 0:\n",
    "        disp_long = -disp_long\n",
    "\n",
    "    Disp = np.reshape(disp_long, (n_res, n_res))\n",
    "\n",
    "    # two-dimensional interpolation with scipy.interpolate.griddata\n",
    "    x = np.linspace(-1, 1, n_res)\n",
    "    z = np.linspace(-1, 1, n_res)\n",
    "    X, Z = np.meshgrid(x, z)\n",
    "\n",
    "    # two-dimensional interpolation with scipy.interpolate.griddata\n",
    "    #Disp_cub = griddata((-1, 1), Disp, (X, Z), method='cubic')\n",
    "    Disp_cub = Disp\n",
    "    title = format('Design point %i\\n Longitudinal mode' % (dp_no))\n",
    "\n",
    "    # 2d plot\n",
    "    fig = plt.figure(figsize=(8, 4))\n",
    "    ax1 = fig.add_subplot(1, 2, 1)\n",
    "    ax1.axis('equal')\n",
    "    cs = ax1.contourf(X, Z, Disp_cub, levels=15, cmap='jet')\n",
    "    ax1.set_title(title)\n",
    "    ax1.set_xlabel('X')\n",
    "    ax1.set_ylabel('Z')\n",
    "\n",
    "    # 3d plot\n",
    "    ax2 = fig.add_subplot(1, 2, 2, projection='3d')\n",
    "    ax2.axis('equal')\n",
    "    ax2.plot_surface(X, Z, Disp_cub, cmap='jet', shade=True, rstride=1, cstride=1)\n",
    "    ax2.set_title(title)\n",
    "    ax2.set_xlabel('X')\n",
    "    ax2.set_ylabel('Z')\n",
    "    ax2.set_xlim([-1.1, 1.1])\n",
    "    ax2.set_ylim([-1.1, 1.1])\n",
    "    ax2.set_zlim([0, disp_long.max(axis=1).item()])\n",
    "    plt.colorbar(cs)\n",
    "    plt.show()"
   ]
  },
  {
   "cell_type": "code",
   "execution_count": null,
   "metadata": {},
   "outputs": [],
   "source": []
  }
 ],
 "metadata": {
  "kernelspec": {
   "display_name": "fbr",
   "language": "python",
   "name": "python3"
  },
  "language_info": {
   "codemirror_mode": {
    "name": "ipython",
    "version": 3
   },
   "file_extension": ".py",
   "mimetype": "text/x-python",
   "name": "python",
   "nbconvert_exporter": "python",
   "pygments_lexer": "ipython3",
   "version": "3.8.20"
  }
 },
 "nbformat": 4,
 "nbformat_minor": 2
}
