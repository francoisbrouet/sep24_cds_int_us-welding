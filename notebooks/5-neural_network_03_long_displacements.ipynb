{
 "cells": [
  {
   "cell_type": "markdown",
   "metadata": {},
   "source": [
    "# Prediction of the NRDD with Dense Neural Networks"
   ]
  },
  {
   "cell_type": "markdown",
   "metadata": {},
   "source": [
    "The uniformity criterion was predicted before with a tuned LightGBM model and the goal of this chapter is to compare the performance with a dense neural network model"
   ]
  },
  {
   "cell_type": "code",
   "execution_count": 3,
   "metadata": {},
   "outputs": [],
   "source": [
    "import numpy as np\n",
    "import pandas as pd\n",
    "import os\n",
    "import matplotlib.pyplot as plt\n",
    "from sklearn.model_selection import train_test_split, KFold, cross_val_score\n",
    "from sklearn.preprocessing import StandardScaler, PowerTransformer, FunctionTransformer, RobustScaler, QuantileTransformer, PolynomialFeatures\n",
    "from sklearn.metrics import r2_score, mean_squared_error\n",
    "import tensorflow as tf\n",
    "from tensorflow.keras.optimizers import Adam\n",
    "from tensorflow.keras.models import Sequential\n",
    "from tensorflow.keras.layers import Input, Dense, Normalization\n",
    "import tensorflow.keras.backend as K\n",
    "from scikeras.wrappers import KerasRegressor\n",
    "from sklearn.pipeline import Pipeline\n",
    "from sklearn.compose import ColumnTransformer\n",
    "from sklearn.model_selection import GridSearchCV\n",
    "from skopt import BayesSearchCV\n",
    "from skopt.space import Real, Integer, Categorical\n",
    "import pickle"
   ]
  },
  {
   "cell_type": "code",
   "execution_count": 4,
   "metadata": {},
   "outputs": [],
   "source": [
    "# Load dataframes from binary files\n",
    "fam = '03'\n",
    "#base_dir = r'C:\\FBr\\Weiterbildung\\Project'\n",
    "base_dir = r'D:\\Entwicklungen\\share\\DataScienceProject'\n",
    "\n",
    "all_data = {}\n",
    "fam_dir = os.path.join(base_dir, fam, 'data-' + fam)\n",
    "all_data[fam] = {}\n",
    "\n",
    "ft_param_path = os.path.join(base_dir, 'Scripts', 'ft_files', str(fam) + '-feat-parameters.ft')\n",
    "df_params = pd.read_feather(ft_param_path)"
   ]
  },
  {
   "cell_type": "code",
   "execution_count": 5,
   "metadata": {},
   "outputs": [
    {
     "data": {
      "text/html": [
       "<div>\n",
       "<style scoped>\n",
       "    .dataframe tbody tr th:only-of-type {\n",
       "        vertical-align: middle;\n",
       "    }\n",
       "\n",
       "    .dataframe tbody tr th {\n",
       "        vertical-align: top;\n",
       "    }\n",
       "\n",
       "    .dataframe thead th {\n",
       "        text-align: right;\n",
       "    }\n",
       "</style>\n",
       "<table border=\"1\" class=\"dataframe\">\n",
       "  <thead>\n",
       "    <tr style=\"text-align: right;\">\n",
       "      <th></th>\n",
       "      <th>dp_no</th>\n",
       "      <th>dim_x</th>\n",
       "      <th>dim_y</th>\n",
       "      <th>dim_z</th>\n",
       "      <th>nb_slots_x</th>\n",
       "      <th>slot_x_length</th>\n",
       "      <th>slot_x_distance</th>\n",
       "      <th>nb_slots_z</th>\n",
       "      <th>slot_z_length</th>\n",
       "      <th>slot_z_distance</th>\n",
       "      <th>...</th>\n",
       "      <th>disp_long_396</th>\n",
       "      <th>disp_long_397</th>\n",
       "      <th>disp_long_398</th>\n",
       "      <th>disp_long_399</th>\n",
       "      <th>sum_sensi</th>\n",
       "      <th>coupling_long</th>\n",
       "      <th>slot_2-2</th>\n",
       "      <th>slot_3-2</th>\n",
       "      <th>slot_4-1</th>\n",
       "      <th>slot_4-2</th>\n",
       "    </tr>\n",
       "  </thead>\n",
       "  <tbody>\n",
       "    <tr>\n",
       "      <th>0</th>\n",
       "      <td>1001</td>\n",
       "      <td>175.06</td>\n",
       "      <td>121.95</td>\n",
       "      <td>240.31</td>\n",
       "      <td>4</td>\n",
       "      <td>75.993</td>\n",
       "      <td>43.235</td>\n",
       "      <td>2</td>\n",
       "      <td>78.219</td>\n",
       "      <td>59.508</td>\n",
       "      <td>...</td>\n",
       "      <td>0.170716</td>\n",
       "      <td>0.140101</td>\n",
       "      <td>0.144549</td>\n",
       "      <td>0.151599</td>\n",
       "      <td>3.405414e-16</td>\n",
       "      <td>0.960466</td>\n",
       "      <td>0</td>\n",
       "      <td>0</td>\n",
       "      <td>0</td>\n",
       "      <td>1</td>\n",
       "    </tr>\n",
       "    <tr>\n",
       "      <th>1</th>\n",
       "      <td>1002</td>\n",
       "      <td>173.45</td>\n",
       "      <td>122.77</td>\n",
       "      <td>238.13</td>\n",
       "      <td>4</td>\n",
       "      <td>81.168</td>\n",
       "      <td>45.859</td>\n",
       "      <td>2</td>\n",
       "      <td>78.924</td>\n",
       "      <td>57.208</td>\n",
       "      <td>...</td>\n",
       "      <td>0.167263</td>\n",
       "      <td>0.146107</td>\n",
       "      <td>0.139493</td>\n",
       "      <td>0.143682</td>\n",
       "      <td>5.401730e-17</td>\n",
       "      <td>0.956635</td>\n",
       "      <td>0</td>\n",
       "      <td>0</td>\n",
       "      <td>0</td>\n",
       "      <td>1</td>\n",
       "    </tr>\n",
       "    <tr>\n",
       "      <th>2</th>\n",
       "      <td>1003</td>\n",
       "      <td>175.85</td>\n",
       "      <td>116.71</td>\n",
       "      <td>238.10</td>\n",
       "      <td>4</td>\n",
       "      <td>77.532</td>\n",
       "      <td>45.260</td>\n",
       "      <td>2</td>\n",
       "      <td>80.099</td>\n",
       "      <td>49.215</td>\n",
       "      <td>...</td>\n",
       "      <td>0.293034</td>\n",
       "      <td>0.274524</td>\n",
       "      <td>0.277739</td>\n",
       "      <td>0.284010</td>\n",
       "      <td>2.678586e-18</td>\n",
       "      <td>0.986845</td>\n",
       "      <td>0</td>\n",
       "      <td>0</td>\n",
       "      <td>0</td>\n",
       "      <td>1</td>\n",
       "    </tr>\n",
       "    <tr>\n",
       "      <th>3</th>\n",
       "      <td>1004</td>\n",
       "      <td>173.51</td>\n",
       "      <td>116.37</td>\n",
       "      <td>238.30</td>\n",
       "      <td>4</td>\n",
       "      <td>82.428</td>\n",
       "      <td>51.007</td>\n",
       "      <td>2</td>\n",
       "      <td>74.757</td>\n",
       "      <td>50.840</td>\n",
       "      <td>...</td>\n",
       "      <td>0.242726</td>\n",
       "      <td>0.182347</td>\n",
       "      <td>0.183003</td>\n",
       "      <td>0.186770</td>\n",
       "      <td>8.933099e-18</td>\n",
       "      <td>0.967459</td>\n",
       "      <td>0</td>\n",
       "      <td>0</td>\n",
       "      <td>0</td>\n",
       "      <td>1</td>\n",
       "    </tr>\n",
       "    <tr>\n",
       "      <th>4</th>\n",
       "      <td>1005</td>\n",
       "      <td>175.60</td>\n",
       "      <td>118.72</td>\n",
       "      <td>241.04</td>\n",
       "      <td>4</td>\n",
       "      <td>76.576</td>\n",
       "      <td>45.981</td>\n",
       "      <td>2</td>\n",
       "      <td>78.773</td>\n",
       "      <td>64.702</td>\n",
       "      <td>...</td>\n",
       "      <td>0.260120</td>\n",
       "      <td>0.259677</td>\n",
       "      <td>0.281911</td>\n",
       "      <td>0.293833</td>\n",
       "      <td>8.025438e-18</td>\n",
       "      <td>0.991598</td>\n",
       "      <td>0</td>\n",
       "      <td>0</td>\n",
       "      <td>0</td>\n",
       "      <td>1</td>\n",
       "    </tr>\n",
       "  </tbody>\n",
       "</table>\n",
       "<p>5 rows × 545 columns</p>\n",
       "</div>"
      ],
      "text/plain": [
       "   dp_no   dim_x   dim_y   dim_z  nb_slots_x  slot_x_length  slot_x_distance  \\\n",
       "0   1001  175.06  121.95  240.31           4         75.993           43.235   \n",
       "1   1002  173.45  122.77  238.13           4         81.168           45.859   \n",
       "2   1003  175.85  116.71  238.10           4         77.532           45.260   \n",
       "3   1004  173.51  116.37  238.30           4         82.428           51.007   \n",
       "4   1005  175.60  118.72  241.04           4         76.576           45.981   \n",
       "\n",
       "   nb_slots_z  slot_z_length  slot_z_distance  ...  disp_long_396  \\\n",
       "0           2         78.219           59.508  ...       0.170716   \n",
       "1           2         78.924           57.208  ...       0.167263   \n",
       "2           2         80.099           49.215  ...       0.293034   \n",
       "3           2         74.757           50.840  ...       0.242726   \n",
       "4           2         78.773           64.702  ...       0.260120   \n",
       "\n",
       "   disp_long_397  disp_long_398  disp_long_399     sum_sensi  coupling_long  \\\n",
       "0       0.140101       0.144549       0.151599  3.405414e-16       0.960466   \n",
       "1       0.146107       0.139493       0.143682  5.401730e-17       0.956635   \n",
       "2       0.274524       0.277739       0.284010  2.678586e-18       0.986845   \n",
       "3       0.182347       0.183003       0.186770  8.933099e-18       0.967459   \n",
       "4       0.259677       0.281911       0.293833  8.025438e-18       0.991598   \n",
       "\n",
       "   slot_2-2  slot_3-2  slot_4-1  slot_4-2  \n",
       "0         0         0         0         1  \n",
       "1         0         0         0         1  \n",
       "2         0         0         0         1  \n",
       "3         0         0         0         1  \n",
       "4         0         0         0         1  \n",
       "\n",
       "[5 rows x 545 columns]"
      ]
     },
     "execution_count": 5,
     "metadata": {},
     "output_type": "execute_result"
    }
   ],
   "source": [
    "df_params.head()"
   ]
  },
  {
   "cell_type": "markdown",
   "metadata": {},
   "source": [
    "# Preparation of the variables"
   ]
  },
  {
   "cell_type": "markdown",
   "metadata": {},
   "source": [
    "Definition of the explanatory variables (geometrical parameters)"
   ]
  },
  {
   "cell_type": "code",
   "execution_count": 6,
   "metadata": {},
   "outputs": [],
   "source": [
    "# List of the explanatory variables\n",
    "lst_param = df_params.columns.to_list()\n",
    "\n",
    "# Unscaled explanatory variables\n",
    "lst_slot_class = lst_param[541:545]\n",
    "lst_expl = lst_param[1:4] + lst_param[5:7] + lst_param[8:24] + lst_param[32:34]\n",
    "X = df_params[lst_expl + lst_slot_class]"
   ]
  },
  {
   "cell_type": "code",
   "execution_count": 7,
   "metadata": {},
   "outputs": [
    {
     "data": {
      "text/html": [
       "<div>\n",
       "<style scoped>\n",
       "    .dataframe tbody tr th:only-of-type {\n",
       "        vertical-align: middle;\n",
       "    }\n",
       "\n",
       "    .dataframe tbody tr th {\n",
       "        vertical-align: top;\n",
       "    }\n",
       "\n",
       "    .dataframe thead th {\n",
       "        text-align: right;\n",
       "    }\n",
       "</style>\n",
       "<table border=\"1\" class=\"dataframe\">\n",
       "  <thead>\n",
       "    <tr style=\"text-align: right;\">\n",
       "      <th></th>\n",
       "      <th>dim_x</th>\n",
       "      <th>dim_y</th>\n",
       "      <th>dim_z</th>\n",
       "      <th>slot_x_length</th>\n",
       "      <th>slot_x_distance</th>\n",
       "      <th>slot_z_length</th>\n",
       "      <th>slot_z_distance</th>\n",
       "      <th>chamfer_x_dim_y</th>\n",
       "      <th>chamfer_x_dim_z</th>\n",
       "      <th>chamfer_y_dim_x</th>\n",
       "      <th>...</th>\n",
       "      <th>cut_x_depth</th>\n",
       "      <th>cut_z_start</th>\n",
       "      <th>cut_z_end</th>\n",
       "      <th>cut_z_depth</th>\n",
       "      <th>seg_x_out</th>\n",
       "      <th>seg_z_out</th>\n",
       "      <th>slot_2-2</th>\n",
       "      <th>slot_3-2</th>\n",
       "      <th>slot_4-1</th>\n",
       "      <th>slot_4-2</th>\n",
       "    </tr>\n",
       "  </thead>\n",
       "  <tbody>\n",
       "    <tr>\n",
       "      <th>0</th>\n",
       "      <td>0.052038</td>\n",
       "      <td>0.675477</td>\n",
       "      <td>0.268415</td>\n",
       "      <td>-0.964606</td>\n",
       "      <td>-1.216650</td>\n",
       "      <td>-0.108340</td>\n",
       "      <td>-0.428067</td>\n",
       "      <td>0.972486</td>\n",
       "      <td>0.351407</td>\n",
       "      <td>-1.234165</td>\n",
       "      <td>...</td>\n",
       "      <td>-1.180056</td>\n",
       "      <td>-0.998197</td>\n",
       "      <td>1.186053</td>\n",
       "      <td>-0.393300</td>\n",
       "      <td>-0.288377</td>\n",
       "      <td>-0.617930</td>\n",
       "      <td>0</td>\n",
       "      <td>0</td>\n",
       "      <td>0</td>\n",
       "      <td>1</td>\n",
       "    </tr>\n",
       "    <tr>\n",
       "      <th>1</th>\n",
       "      <td>-1.341835</td>\n",
       "      <td>0.959596</td>\n",
       "      <td>-1.619352</td>\n",
       "      <td>1.026687</td>\n",
       "      <td>-0.996598</td>\n",
       "      <td>0.162988</td>\n",
       "      <td>-0.592297</td>\n",
       "      <td>0.290194</td>\n",
       "      <td>-0.021012</td>\n",
       "      <td>1.042796</td>\n",
       "      <td>...</td>\n",
       "      <td>1.632010</td>\n",
       "      <td>-0.762137</td>\n",
       "      <td>-0.141535</td>\n",
       "      <td>1.592878</td>\n",
       "      <td>-0.623407</td>\n",
       "      <td>-0.590973</td>\n",
       "      <td>0</td>\n",
       "      <td>0</td>\n",
       "      <td>0</td>\n",
       "      <td>1</td>\n",
       "    </tr>\n",
       "    <tr>\n",
       "      <th>2</th>\n",
       "      <td>0.735987</td>\n",
       "      <td>-1.140108</td>\n",
       "      <td>-1.645330</td>\n",
       "      <td>-0.372413</td>\n",
       "      <td>-1.046831</td>\n",
       "      <td>0.615201</td>\n",
       "      <td>-1.163032</td>\n",
       "      <td>-1.319075</td>\n",
       "      <td>-0.011177</td>\n",
       "      <td>-0.651763</td>\n",
       "      <td>...</td>\n",
       "      <td>-0.942469</td>\n",
       "      <td>-1.417812</td>\n",
       "      <td>-0.872893</td>\n",
       "      <td>-1.224991</td>\n",
       "      <td>-0.564514</td>\n",
       "      <td>-0.184940</td>\n",
       "      <td>0</td>\n",
       "      <td>0</td>\n",
       "      <td>0</td>\n",
       "      <td>1</td>\n",
       "    </tr>\n",
       "    <tr>\n",
       "      <th>3</th>\n",
       "      <td>-1.289889</td>\n",
       "      <td>-1.257914</td>\n",
       "      <td>-1.472140</td>\n",
       "      <td>1.511524</td>\n",
       "      <td>-0.564882</td>\n",
       "      <td>-1.440733</td>\n",
       "      <td>-1.047000</td>\n",
       "      <td>0.358075</td>\n",
       "      <td>0.484408</td>\n",
       "      <td>-1.216083</td>\n",
       "      <td>...</td>\n",
       "      <td>1.141323</td>\n",
       "      <td>0.676109</td>\n",
       "      <td>0.111121</td>\n",
       "      <td>-1.076670</td>\n",
       "      <td>-1.132485</td>\n",
       "      <td>-0.339844</td>\n",
       "      <td>0</td>\n",
       "      <td>0</td>\n",
       "      <td>0</td>\n",
       "      <td>1</td>\n",
       "    </tr>\n",
       "    <tr>\n",
       "      <th>4</th>\n",
       "      <td>0.519548</td>\n",
       "      <td>-0.443672</td>\n",
       "      <td>0.900556</td>\n",
       "      <td>-0.740273</td>\n",
       "      <td>-0.986367</td>\n",
       "      <td>0.104873</td>\n",
       "      <td>-0.057193</td>\n",
       "      <td>1.012866</td>\n",
       "      <td>0.168618</td>\n",
       "      <td>1.111047</td>\n",
       "      <td>...</td>\n",
       "      <td>-1.348848</td>\n",
       "      <td>-0.708940</td>\n",
       "      <td>-0.831592</td>\n",
       "      <td>-1.280280</td>\n",
       "      <td>-0.538616</td>\n",
       "      <td>-0.799752</td>\n",
       "      <td>0</td>\n",
       "      <td>0</td>\n",
       "      <td>0</td>\n",
       "      <td>1</td>\n",
       "    </tr>\n",
       "    <tr>\n",
       "      <th>...</th>\n",
       "      <td>...</td>\n",
       "      <td>...</td>\n",
       "      <td>...</td>\n",
       "      <td>...</td>\n",
       "      <td>...</td>\n",
       "      <td>...</td>\n",
       "      <td>...</td>\n",
       "      <td>...</td>\n",
       "      <td>...</td>\n",
       "      <td>...</td>\n",
       "      <td>...</td>\n",
       "      <td>...</td>\n",
       "      <td>...</td>\n",
       "      <td>...</td>\n",
       "      <td>...</td>\n",
       "      <td>...</td>\n",
       "      <td>...</td>\n",
       "      <td>...</td>\n",
       "      <td>...</td>\n",
       "      <td>...</td>\n",
       "      <td>...</td>\n",
       "    </tr>\n",
       "    <tr>\n",
       "      <th>7985</th>\n",
       "      <td>0.155929</td>\n",
       "      <td>-0.173413</td>\n",
       "      <td>-0.407025</td>\n",
       "      <td>-0.071506</td>\n",
       "      <td>1.944072</td>\n",
       "      <td>-0.562863</td>\n",
       "      <td>-0.783161</td>\n",
       "      <td>0.487223</td>\n",
       "      <td>-1.644638</td>\n",
       "      <td>0.338918</td>\n",
       "      <td>...</td>\n",
       "      <td>-1.162380</td>\n",
       "      <td>-0.310659</td>\n",
       "      <td>1.307600</td>\n",
       "      <td>1.497900</td>\n",
       "      <td>1.311448</td>\n",
       "      <td>-0.418957</td>\n",
       "      <td>1</td>\n",
       "      <td>0</td>\n",
       "      <td>0</td>\n",
       "      <td>0</td>\n",
       "    </tr>\n",
       "    <tr>\n",
       "      <th>7986</th>\n",
       "      <td>1.099606</td>\n",
       "      <td>-0.939147</td>\n",
       "      <td>0.510880</td>\n",
       "      <td>-0.218112</td>\n",
       "      <td>1.176576</td>\n",
       "      <td>0.495893</td>\n",
       "      <td>-0.158801</td>\n",
       "      <td>-0.123411</td>\n",
       "      <td>-0.523212</td>\n",
       "      <td>-1.668875</td>\n",
       "      <td>...</td>\n",
       "      <td>-0.729932</td>\n",
       "      <td>0.206345</td>\n",
       "      <td>0.998675</td>\n",
       "      <td>1.617276</td>\n",
       "      <td>1.651811</td>\n",
       "      <td>-0.717983</td>\n",
       "      <td>1</td>\n",
       "      <td>0</td>\n",
       "      <td>0</td>\n",
       "      <td>0</td>\n",
       "    </tr>\n",
       "    <tr>\n",
       "      <th>7987</th>\n",
       "      <td>-0.857009</td>\n",
       "      <td>-0.758974</td>\n",
       "      <td>-0.640831</td>\n",
       "      <td>0.731937</td>\n",
       "      <td>2.026256</td>\n",
       "      <td>0.345412</td>\n",
       "      <td>-0.382511</td>\n",
       "      <td>-0.528452</td>\n",
       "      <td>-1.660220</td>\n",
       "      <td>0.379828</td>\n",
       "      <td>...</td>\n",
       "      <td>1.271914</td>\n",
       "      <td>0.909537</td>\n",
       "      <td>0.438064</td>\n",
       "      <td>-1.066910</td>\n",
       "      <td>1.269786</td>\n",
       "      <td>-0.683877</td>\n",
       "      <td>1</td>\n",
       "      <td>0</td>\n",
       "      <td>0</td>\n",
       "      <td>0</td>\n",
       "    </tr>\n",
       "    <tr>\n",
       "      <th>7988</th>\n",
       "      <td>-0.337554</td>\n",
       "      <td>-0.173413</td>\n",
       "      <td>-0.510938</td>\n",
       "      <td>-1.405192</td>\n",
       "      <td>1.372308</td>\n",
       "      <td>-1.397244</td>\n",
       "      <td>-0.578444</td>\n",
       "      <td>-0.788036</td>\n",
       "      <td>0.288562</td>\n",
       "      <td>-1.670127</td>\n",
       "      <td>...</td>\n",
       "      <td>0.500178</td>\n",
       "      <td>0.463600</td>\n",
       "      <td>-0.127121</td>\n",
       "      <td>1.730853</td>\n",
       "      <td>1.534690</td>\n",
       "      <td>-0.553233</td>\n",
       "      <td>1</td>\n",
       "      <td>0</td>\n",
       "      <td>0</td>\n",
       "      <td>0</td>\n",
       "    </tr>\n",
       "    <tr>\n",
       "      <th>7989</th>\n",
       "      <td>1.367992</td>\n",
       "      <td>0.717056</td>\n",
       "      <td>-1.411524</td>\n",
       "      <td>0.155520</td>\n",
       "      <td>0.926335</td>\n",
       "      <td>-0.254588</td>\n",
       "      <td>-0.259267</td>\n",
       "      <td>1.719526</td>\n",
       "      <td>-0.372507</td>\n",
       "      <td>1.122228</td>\n",
       "      <td>...</td>\n",
       "      <td>0.042581</td>\n",
       "      <td>0.132230</td>\n",
       "      <td>0.387754</td>\n",
       "      <td>1.659708</td>\n",
       "      <td>1.677275</td>\n",
       "      <td>-0.650903</td>\n",
       "      <td>1</td>\n",
       "      <td>0</td>\n",
       "      <td>0</td>\n",
       "      <td>0</td>\n",
       "    </tr>\n",
       "  </tbody>\n",
       "</table>\n",
       "<p>7990 rows × 27 columns</p>\n",
       "</div>"
      ],
      "text/plain": [
       "         dim_x     dim_y     dim_z  slot_x_length  slot_x_distance  \\\n",
       "0     0.052038  0.675477  0.268415      -0.964606        -1.216650   \n",
       "1    -1.341835  0.959596 -1.619352       1.026687        -0.996598   \n",
       "2     0.735987 -1.140108 -1.645330      -0.372413        -1.046831   \n",
       "3    -1.289889 -1.257914 -1.472140       1.511524        -0.564882   \n",
       "4     0.519548 -0.443672  0.900556      -0.740273        -0.986367   \n",
       "...        ...       ...       ...            ...              ...   \n",
       "7985  0.155929 -0.173413 -0.407025      -0.071506         1.944072   \n",
       "7986  1.099606 -0.939147  0.510880      -0.218112         1.176576   \n",
       "7987 -0.857009 -0.758974 -0.640831       0.731937         2.026256   \n",
       "7988 -0.337554 -0.173413 -0.510938      -1.405192         1.372308   \n",
       "7989  1.367992  0.717056 -1.411524       0.155520         0.926335   \n",
       "\n",
       "      slot_z_length  slot_z_distance  chamfer_x_dim_y  chamfer_x_dim_z  \\\n",
       "0         -0.108340        -0.428067         0.972486         0.351407   \n",
       "1          0.162988        -0.592297         0.290194        -0.021012   \n",
       "2          0.615201        -1.163032        -1.319075        -0.011177   \n",
       "3         -1.440733        -1.047000         0.358075         0.484408   \n",
       "4          0.104873        -0.057193         1.012866         0.168618   \n",
       "...             ...              ...              ...              ...   \n",
       "7985      -0.562863        -0.783161         0.487223        -1.644638   \n",
       "7986       0.495893        -0.158801        -0.123411        -0.523212   \n",
       "7987       0.345412        -0.382511        -0.528452        -1.660220   \n",
       "7988      -1.397244        -0.578444        -0.788036         0.288562   \n",
       "7989      -0.254588        -0.259267         1.719526        -0.372507   \n",
       "\n",
       "      chamfer_y_dim_x  ...  cut_x_depth  cut_z_start  cut_z_end  cut_z_depth  \\\n",
       "0           -1.234165  ...    -1.180056    -0.998197   1.186053    -0.393300   \n",
       "1            1.042796  ...     1.632010    -0.762137  -0.141535     1.592878   \n",
       "2           -0.651763  ...    -0.942469    -1.417812  -0.872893    -1.224991   \n",
       "3           -1.216083  ...     1.141323     0.676109   0.111121    -1.076670   \n",
       "4            1.111047  ...    -1.348848    -0.708940  -0.831592    -1.280280   \n",
       "...               ...  ...          ...          ...        ...          ...   \n",
       "7985         0.338918  ...    -1.162380    -0.310659   1.307600     1.497900   \n",
       "7986        -1.668875  ...    -0.729932     0.206345   0.998675     1.617276   \n",
       "7987         0.379828  ...     1.271914     0.909537   0.438064    -1.066910   \n",
       "7988        -1.670127  ...     0.500178     0.463600  -0.127121     1.730853   \n",
       "7989         1.122228  ...     0.042581     0.132230   0.387754     1.659708   \n",
       "\n",
       "      seg_x_out  seg_z_out  slot_2-2  slot_3-2  slot_4-1  slot_4-2  \n",
       "0     -0.288377  -0.617930         0         0         0         1  \n",
       "1     -0.623407  -0.590973         0         0         0         1  \n",
       "2     -0.564514  -0.184940         0         0         0         1  \n",
       "3     -1.132485  -0.339844         0         0         0         1  \n",
       "4     -0.538616  -0.799752         0         0         0         1  \n",
       "...         ...        ...       ...       ...       ...       ...  \n",
       "7985   1.311448  -0.418957         1         0         0         0  \n",
       "7986   1.651811  -0.717983         1         0         0         0  \n",
       "7987   1.269786  -0.683877         1         0         0         0  \n",
       "7988   1.534690  -0.553233         1         0         0         0  \n",
       "7989   1.677275  -0.650903         1         0         0         0  \n",
       "\n",
       "[7990 rows x 27 columns]"
      ]
     },
     "execution_count": 7,
     "metadata": {},
     "output_type": "execute_result"
    }
   ],
   "source": [
    "# Scale all explanatory variables, except the slot class encoded columns\n",
    "scaler = StandardScaler()\n",
    "X_scaled = scaler.fit_transform(X[lst_expl])\n",
    "X_scaled = pd.concat([pd.DataFrame(X_scaled, columns=lst_expl, index=X.index), X[lst_slot_class]], axis=1)\n",
    "X_scaled"
   ]
  },
  {
   "cell_type": "code",
   "execution_count": 8,
   "metadata": {},
   "outputs": [],
   "source": [
    "# Target variable: NRDD\n",
    "target = 'long_disp_nrdd'\n",
    "y = df_params[[target]]"
   ]
  },
  {
   "cell_type": "code",
   "execution_count": 9,
   "metadata": {},
   "outputs": [
    {
     "name": "stdout",
     "output_type": "stream",
     "text": [
      "Number of explanatory variables: 27\n"
     ]
    }
   ],
   "source": [
    "# We store the number of explanatory variables for later\n",
    "num_expl = X.shape[1]\n",
    "print ('Number of explanatory variables:', num_expl)"
   ]
  },
  {
   "cell_type": "markdown",
   "metadata": {},
   "source": [
    "# Prediction of the Normalized Relative Displacement Deviation of the output displacement"
   ]
  },
  {
   "cell_type": "markdown",
   "metadata": {},
   "source": [
    "We will use a 5-fold cross validation all along the notebook to evaluate the models"
   ]
  },
  {
   "cell_type": "code",
   "execution_count": 11,
   "metadata": {},
   "outputs": [],
   "source": [
    "kfold = KFold(n_splits=5, shuffle=True, random_state=55)"
   ]
  },
  {
   "cell_type": "markdown",
   "metadata": {},
   "source": [
    "### Baseline model"
   ]
  },
  {
   "cell_type": "markdown",
   "metadata": {},
   "source": [
    "We start with the baseline model: the model has 2 layers (first layer with the same numbers of neurons as the Input layer and second layer with one neuron). The structure of the model will be optimized in the next steps. The following function creates and returns the Keras sequential model:"
   ]
  },
  {
   "cell_type": "code",
   "execution_count": 18,
   "metadata": {},
   "outputs": [],
   "source": [
    "def baseline_model():\n",
    "\n",
    "    model = Sequential(name='baseline_model')    # Instantiate a sequential model\n",
    "    model.add(Dense(num_expl, input_shape=(num_expl,), kernel_initializer='normal', activation='relu', name='Dense_Layer_1'))\n",
    "    model.add(Dense(1, kernel_initializer='normal', name='Dense_Layer_2'))\n",
    "\n",
    "    model.compile(loss='mse', optimizer=tf.optimizers.Adam(learning_rate=0.1))\n",
    "\n",
    "    return model"
   ]
  },
  {
   "cell_type": "markdown",
   "metadata": {},
   "source": [
    "### Modeling the standardized dataset with a pipeline and perform some transformations to the target variable"
   ]
  },
  {
   "cell_type": "markdown",
   "metadata": {},
   "source": [
    "The pipeline framework performs the standardization during the model evaluation process and prevents data leakage from each test set cross validation fold into the training data. We will try to predict a transformation of the NRDD instead of the target variable itself. The cross-validation scoring will highlight the best transformation."
   ]
  },
  {
   "cell_type": "code",
   "execution_count": 13,
   "metadata": {},
   "outputs": [],
   "source": [
    "preprocessor = ColumnTransformer(\n",
    "                        transformers=[\n",
    "                                ('numerical', StandardScaler(), lst_expl),\n",
    "                                ('categorical', 'passthrough', lst_slot_class)]                              \n",
    "                        )\n",
    "\n",
    "pipe = Pipeline(steps=[\n",
    "                    ('preprocessor', preprocessor),\n",
    "                    ('mlp', KerasRegressor(model=baseline_model, epochs=100, batch_size=32, validation_split=0.2, verbose=0))\n",
    "                    ])\n",
    "                    "
   ]
  },
  {
   "cell_type": "code",
   "execution_count": 44,
   "metadata": {},
   "outputs": [
    {
     "name": "stdout",
     "output_type": "stream",
     "text": [
      "---------------\n",
      "** Transformation: NoTransformation\n",
      "---------------\n",
      "** Transformation: Inverse\n",
      "---------------\n",
      "** Transformation: InverseSquare\n",
      "---------------\n",
      "** Transformation: Logarithm\n",
      "---------------\n",
      "** Transformation: InverseLogarithm\n",
      "---------------\n",
      "** Transformation: LogarithmInverse\n",
      "---------------\n",
      "** Transformation: StandardScaler\n",
      "---------------\n",
      "** Transformation: PowerTransformer\n",
      "---------------\n",
      "** Transformation: QuantileTransformer\n",
      "---------------\n",
      "** Transformation: RobustScaler\n",
      "---------------\n",
      "** Transformation: RootSquare\n",
      "---------------\n",
      "** Transformation: InverseRootSquare\n"
     ]
    },
    {
     "data": {
      "text/html": [
       "<div>\n",
       "<style scoped>\n",
       "    .dataframe tbody tr th:only-of-type {\n",
       "        vertical-align: middle;\n",
       "    }\n",
       "\n",
       "    .dataframe tbody tr th {\n",
       "        vertical-align: top;\n",
       "    }\n",
       "\n",
       "    .dataframe thead th {\n",
       "        text-align: right;\n",
       "    }\n",
       "</style>\n",
       "<table border=\"1\" class=\"dataframe\">\n",
       "  <thead>\n",
       "    <tr style=\"text-align: right;\">\n",
       "      <th></th>\n",
       "      <th>NoTransformation</th>\n",
       "      <th>Inverse</th>\n",
       "      <th>InverseSquare</th>\n",
       "      <th>Logarithm</th>\n",
       "      <th>InverseLogarithm</th>\n",
       "      <th>LogarithmInverse</th>\n",
       "      <th>StandardScaler</th>\n",
       "      <th>PowerTransformer</th>\n",
       "      <th>QuantileTransformer</th>\n",
       "      <th>RobustScaler</th>\n",
       "      <th>RootSquare</th>\n",
       "      <th>InverseRootSquare</th>\n",
       "    </tr>\n",
       "  </thead>\n",
       "  <tbody>\n",
       "    <tr>\n",
       "      <th>Score Mean</th>\n",
       "      <td>0.568569</td>\n",
       "      <td>0.035919</td>\n",
       "      <td>-0.077447</td>\n",
       "      <td>0.449575</td>\n",
       "      <td>0.436263</td>\n",
       "      <td>0.330514</td>\n",
       "      <td>0.423012</td>\n",
       "      <td>0.592207</td>\n",
       "      <td>0.501210</td>\n",
       "      <td>0.428361</td>\n",
       "      <td>0.508949</td>\n",
       "      <td>0.015579</td>\n",
       "    </tr>\n",
       "    <tr>\n",
       "      <th>Standard Deviation</th>\n",
       "      <td>0.059864</td>\n",
       "      <td>0.193893</td>\n",
       "      <td>0.090887</td>\n",
       "      <td>0.028970</td>\n",
       "      <td>0.014163</td>\n",
       "      <td>0.136263</td>\n",
       "      <td>0.062815</td>\n",
       "      <td>0.035692</td>\n",
       "      <td>0.028844</td>\n",
       "      <td>0.045653</td>\n",
       "      <td>0.025456</td>\n",
       "      <td>0.260553</td>\n",
       "    </tr>\n",
       "  </tbody>\n",
       "</table>\n",
       "</div>"
      ],
      "text/plain": [
       "                    NoTransformation   Inverse  InverseSquare  Logarithm  \\\n",
       "Score Mean                  0.568569  0.035919      -0.077447   0.449575   \n",
       "Standard Deviation          0.059864  0.193893       0.090887   0.028970   \n",
       "\n",
       "                    InverseLogarithm  LogarithmInverse  StandardScaler  \\\n",
       "Score Mean                  0.436263          0.330514        0.423012   \n",
       "Standard Deviation          0.014163          0.136263        0.062815   \n",
       "\n",
       "                    PowerTransformer  QuantileTransformer  RobustScaler  \\\n",
       "Score Mean                  0.592207             0.501210      0.428361   \n",
       "Standard Deviation          0.035692             0.028844      0.045653   \n",
       "\n",
       "                    RootSquare  InverseRootSquare  \n",
       "Score Mean            0.508949           0.015579  \n",
       "Standard Deviation    0.025456           0.260553  "
      ]
     },
     "execution_count": 44,
     "metadata": {},
     "output_type": "execute_result"
    }
   ],
   "source": [
    "dict_transfs = {'NoTransformation': FunctionTransformer(lambda y: y),\n",
    "                'Inverse': FunctionTransformer(lambda y: 1/y),\n",
    "                'InverseSquare': FunctionTransformer(lambda y: 1/y**2),\n",
    "                'Logarithm': FunctionTransformer(np.log10),\n",
    "                'InverseLogarithm': FunctionTransformer(lambda y: 1/np.log10(y)),\n",
    "                'LogarithmInverse': FunctionTransformer(lambda y: np.log10(1/y)),\n",
    "                'StandardScaler': StandardScaler(),\n",
    "                'PowerTransformer': PowerTransformer(),\n",
    "                'QuantileTransformer': QuantileTransformer(),\n",
    "                'RobustScaler': RobustScaler(),\n",
    "                'RootSquare': FunctionTransformer(lambda y: np.sqrt(y)),\n",
    "                'InverseRootSquare': FunctionTransformer(lambda y: 1/np.sqrt(y))\n",
    "            }\n",
    "\n",
    "results = pd.DataFrame()\n",
    "\n",
    "for name, transf in dict_transfs.items():\n",
    "\n",
    "    print ('---------------')\n",
    "    print ('** Transformation:', name)\n",
    "\n",
    "    X_train, X_test, y_train, y_test = train_test_split(X, y, test_size = 0.2, random_state=55)\n",
    "\n",
    "    # Apply the transformation\n",
    "    y_transf = transf.fit_transform(y_train)  \n",
    "\n",
    "    # Apply the StandardScaler\n",
    "    X_train_scaled = scaler.fit_transform(X_train[lst_expl])\n",
    "    X_train_scaled = pd.concat([pd.DataFrame(X_train_scaled, columns=lst_expl, index=X_train.index), X_train[lst_slot_class]], axis=1)\n",
    "\n",
    "    scores = cross_val_score(pipe, X_train_scaled, y_transf, cv=kfold)\n",
    "    results[name] = pd.DataFrame([scores.mean(), scores.std()], index=['Score Mean', 'Standard Deviation'])\n",
    "\n",
    "results"
   ]
  },
  {
   "cell_type": "markdown",
   "metadata": {},
   "source": [
    "The PowerTransformer provides the best score of cross-validation and will be chosen in the next optimization steps. This transformation is used to make numerical data more Gaussian-like by stabilizing variance and reducing skewness."
   ]
  },
  {
   "cell_type": "markdown",
   "metadata": {},
   "source": [
    "### First tuning of the Neural Network topology"
   ]
  },
  {
   "cell_type": "markdown",
   "metadata": {},
   "source": [
    "The following models will work with the transformed target variable. The structure of a neural network is the biggest leverage to improve the performance of the model (number of layers and neurons, activation functions, ...). Then we use the GridSearch technique to optimize the model structure."
   ]
  },
  {
   "cell_type": "code",
   "execution_count": 13,
   "metadata": {},
   "outputs": [],
   "source": [
    "X = df_params[lst_expl + lst_slot_class]\n",
    "y = df_params[['long_disp_nrdd']]\n",
    "\n",
    "X_train, X_test, y_train, y_test = train_test_split(X, y, test_size = 0.2, random_state=55)\n",
    "idx_train = X_train.index\n",
    "idx_test = X_test.index\n",
    "\n",
    "transf = PowerTransformer()\n",
    "w_train = transf.fit_transform(y_train.values.reshape(-1, 1)) \n",
    "w_test = transf.transform(y_test.values.reshape(-1, 1))"
   ]
  },
  {
   "cell_type": "markdown",
   "metadata": {},
   "source": [
    "A new function is defined taking the tuning parameters as arguments:\n",
    "* Number of epochs and batch size\n",
    "* Number of neurons of the hidden layer (default: number of input variables)\n",
    "* Learning rate of the optimizer\n",
    "* Initialization of the network weights\n",
    "* Neuron activation function"
   ]
  },
  {
   "cell_type": "code",
   "execution_count": 16,
   "metadata": {},
   "outputs": [],
   "source": [
    "def start_tuning_model(init_mode='normal', activation='relu', nb_neurons=num_expl):\n",
    "    model = Sequential()\n",
    "    model.add(Dense(nb_neurons, input_shape=(num_expl,), kernel_initializer=init_mode, activation=activation, name='layer_0'))\n",
    "    model.add(Dense(1, kernel_initializer=init_mode, name='layer_1'))\n",
    "    model.compile(loss='mse', optimizer=tf.optimizers.Adam(learning_rate=0.1))\n",
    "    return model\n",
    "\n",
    "preprocessor = ColumnTransformer(\n",
    "                        transformers=[\n",
    "                                ('numerical', StandardScaler(), lst_expl),\n",
    "                                ('categorical', 'passthrough', lst_slot_class)]                              \n",
    "                        )\n",
    "\n",
    "pipe_tuning = Pipeline(steps=[\n",
    "                    ('preprocessor', preprocessor),\n",
    "                    ('mlp', KerasRegressor(model=start_tuning_model, epochs=100, batch_size=32, validation_split=0.2, verbose=0, shuffle=True, random_state=55))\n",
    "                    ])"
   ]
  },
  {
   "cell_type": "markdown",
   "metadata": {},
   "source": [
    "* The weight initialization is identical for each layer and picked by default according a normal distribution\n",
    "* The default activation function of the first layer is reLU"
   ]
  },
  {
   "cell_type": "markdown",
   "metadata": {},
   "source": [
    "#### Tune the batch size and number of epochs"
   ]
  },
  {
   "cell_type": "code",
   "execution_count": 17,
   "metadata": {},
   "outputs": [],
   "source": [
    "lst_batch_size = [500, 750, 1000, 1250, 1500]\n",
    "lst_epochs = [75, 100, 125, 140, 150, 160]\n",
    "params = {'mlp__batch_size': lst_batch_size, 'mlp__epochs': lst_epochs}"
   ]
  },
  {
   "cell_type": "code",
   "execution_count": 18,
   "metadata": {},
   "outputs": [
    {
     "name": "stdout",
     "output_type": "stream",
     "text": [
      "0.796704 (0.019332) with: {'mlp__batch_size': 500, 'mlp__epochs': 75}\n",
      "0.796371 (0.025554) with: {'mlp__batch_size': 500, 'mlp__epochs': 100}\n",
      "0.776196 (0.047358) with: {'mlp__batch_size': 500, 'mlp__epochs': 125}\n",
      "0.793305 (0.018283) with: {'mlp__batch_size': 500, 'mlp__epochs': 140}\n",
      "0.787842 (0.015228) with: {'mlp__batch_size': 500, 'mlp__epochs': 150}\n",
      "0.786982 (0.010130) with: {'mlp__batch_size': 500, 'mlp__epochs': 160}\n",
      "0.796440 (0.008003) with: {'mlp__batch_size': 750, 'mlp__epochs': 75}\n",
      "0.799710 (0.011067) with: {'mlp__batch_size': 750, 'mlp__epochs': 100}\n",
      "0.789853 (0.010678) with: {'mlp__batch_size': 750, 'mlp__epochs': 125}\n",
      "0.805460 (0.012420) with: {'mlp__batch_size': 750, 'mlp__epochs': 140}\n",
      "0.803724 (0.008548) with: {'mlp__batch_size': 750, 'mlp__epochs': 150}\n",
      "0.793849 (0.016888) with: {'mlp__batch_size': 750, 'mlp__epochs': 160}\n",
      "0.763009 (0.038362) with: {'mlp__batch_size': 1000, 'mlp__epochs': 75}\n",
      "0.805919 (0.013813) with: {'mlp__batch_size': 1000, 'mlp__epochs': 100}\n",
      "0.801787 (0.018748) with: {'mlp__batch_size': 1000, 'mlp__epochs': 125}\n",
      "0.786820 (0.023252) with: {'mlp__batch_size': 1000, 'mlp__epochs': 140}\n",
      "0.795293 (0.013439) with: {'mlp__batch_size': 1000, 'mlp__epochs': 150}\n",
      "0.790706 (0.014222) with: {'mlp__batch_size': 1000, 'mlp__epochs': 160}\n",
      "0.799600 (0.013687) with: {'mlp__batch_size': 1250, 'mlp__epochs': 75}\n",
      "0.801076 (0.005402) with: {'mlp__batch_size': 1250, 'mlp__epochs': 100}\n",
      "0.800762 (0.018625) with: {'mlp__batch_size': 1250, 'mlp__epochs': 125}\n",
      "0.798820 (0.004200) with: {'mlp__batch_size': 1250, 'mlp__epochs': 140}\n",
      "0.799459 (0.016340) with: {'mlp__batch_size': 1250, 'mlp__epochs': 150}\n",
      "0.797827 (0.019242) with: {'mlp__batch_size': 1250, 'mlp__epochs': 160}\n",
      "0.802024 (0.017792) with: {'mlp__batch_size': 1500, 'mlp__epochs': 75}\n",
      "0.802241 (0.017034) with: {'mlp__batch_size': 1500, 'mlp__epochs': 100}\n",
      "0.805753 (0.014781) with: {'mlp__batch_size': 1500, 'mlp__epochs': 125}\n",
      "0.804816 (0.016534) with: {'mlp__batch_size': 1500, 'mlp__epochs': 140}\n",
      "0.781460 (0.028596) with: {'mlp__batch_size': 1500, 'mlp__epochs': 150}\n",
      "0.804921 (0.013189) with: {'mlp__batch_size': 1500, 'mlp__epochs': 160}\n",
      "Best score: 0.8059189861377718\n",
      "Best parameters: {'mlp__batch_size': 1000, 'mlp__epochs': 100}\n"
     ]
    }
   ],
   "source": [
    "grid = GridSearchCV(estimator=pipe_tuning, param_grid=params, n_jobs=-1, cv=5)\n",
    "grid_result = grid.fit(X_train, w_train)\n",
    "\n",
    "means = grid_result.cv_results_['mean_test_score']\n",
    "stds = grid_result.cv_results_['std_test_score']\n",
    "parameters = grid_result.cv_results_['params']\n",
    "\n",
    "for mean, std, parameter in zip(means, stds, parameters):\n",
    "    print ('%f (%f) with: %r' % (mean, std, parameter))\n",
    "\n",
    "print ('Best score:', grid_result.best_score_)\n",
    "print ('Best parameters:', grid_result.best_params_)"
   ]
  },
  {
   "cell_type": "markdown",
   "metadata": {},
   "source": [
    "* Best batch size: 1000\n",
    "* Best number of epochs: 100"
   ]
  },
  {
   "cell_type": "markdown",
   "metadata": {},
   "source": [
    "#### Tune the learning rate of the Adam optimizer"
   ]
  },
  {
   "cell_type": "code",
   "execution_count": 19,
   "metadata": {},
   "outputs": [],
   "source": [
    "def start_tuning_model(init_mode='normal', activation='relu', nb_neurons=num_expl):\n",
    "    model = Sequential()\n",
    "    model.add(Dense(nb_neurons, input_shape=(num_expl,), kernel_initializer=init_mode, activation=activation, name='layer_0'))\n",
    "    model.add(Dense(1, kernel_initializer=init_mode, name='layer_1'))\n",
    "    return model\n",
    "\n",
    "preprocessor = ColumnTransformer(\n",
    "                        transformers=[\n",
    "                                ('numerical', StandardScaler(), lst_expl),\n",
    "                                ('categorical', 'passthrough', lst_slot_class)]                              \n",
    "                        )\n",
    "\n",
    "pipe_start_tuning = Pipeline(steps=[\n",
    "                    ('preprocessor', preprocessor),\n",
    "                    ('mlp', KerasRegressor(model=start_tuning_model, loss='mse', optimizer='Adam', epochs=100, batch_size=1000, validation_split=0.2, verbose=0, shuffle=True, random_state=55))\n",
    "                    ])"
   ]
  },
  {
   "cell_type": "code",
   "execution_count": 20,
   "metadata": {},
   "outputs": [
    {
     "name": "stdout",
     "output_type": "stream",
     "text": [
      "0.778468 (0.015848) with: {'mlp__optimizer__learning_rate': 0.01}\n",
      "0.783100 (0.019768) with: {'mlp__optimizer__learning_rate': 0.01438449888287663}\n",
      "0.805863 (0.023105) with: {'mlp__optimizer__learning_rate': 0.0206913808111479}\n",
      "0.810801 (0.019421) with: {'mlp__optimizer__learning_rate': 0.029763514416313176}\n",
      "0.810919 (0.021946) with: {'mlp__optimizer__learning_rate': 0.04281332398719394}\n",
      "0.807291 (0.014542) with: {'mlp__optimizer__learning_rate': 0.06158482110660264}\n",
      "0.809587 (0.012639) with: {'mlp__optimizer__learning_rate': 0.08858667904100823}\n",
      "0.778392 (0.021109) with: {'mlp__optimizer__learning_rate': 0.12742749857031335}\n",
      "0.778910 (0.024660) with: {'mlp__optimizer__learning_rate': 0.18329807108324356}\n",
      "0.760065 (0.025382) with: {'mlp__optimizer__learning_rate': 0.26366508987303583}\n",
      "0.709098 (0.052412) with: {'mlp__optimizer__learning_rate': 0.37926901907322497}\n",
      "0.679842 (0.049147) with: {'mlp__optimizer__learning_rate': 0.5455594781168517}\n",
      "0.541587 (0.140272) with: {'mlp__optimizer__learning_rate': 0.7847599703514611}\n",
      "0.097547 (0.229171) with: {'mlp__optimizer__learning_rate': 1.1288378916846884}\n",
      "-0.453902 (0.546190) with: {'mlp__optimizer__learning_rate': 1.623776739188721}\n",
      "-2.938075 (2.474981) with: {'mlp__optimizer__learning_rate': 2.3357214690901213}\n",
      "-6.944797 (3.500143) with: {'mlp__optimizer__learning_rate': 3.359818286283781}\n",
      "-37.695591 (33.648631) with: {'mlp__optimizer__learning_rate': 4.832930238571752}\n",
      "-709.288595 (871.771045) with: {'mlp__optimizer__learning_rate': 6.951927961775605}\n",
      "-2414.915446 (3920.811862) with: {'mlp__optimizer__learning_rate': 10.0}\n",
      "Best score: 0.8109192266915819\n",
      "Best parameters: {'mlp__optimizer__learning_rate': 0.04281332398719394}\n"
     ]
    }
   ],
   "source": [
    "lst_learning_rate = np.linspace(-2, 1, 20)\n",
    "params = {'mlp__optimizer__learning_rate': 10**lst_learning_rate} \n",
    "\n",
    "grid = GridSearchCV(estimator=pipe_start_tuning, param_grid=params, n_jobs=-1, cv=5)\n",
    "grid_result = grid.fit(X_train, w_train)\n",
    "\n",
    "means = grid_result.cv_results_['mean_test_score']\n",
    "stds = grid_result.cv_results_['std_test_score']\n",
    "parameters = grid_result.cv_results_['params']\n",
    "\n",
    "for mean, std, parameter in zip(means, stds, parameters):\n",
    "    print ('%f (%f) with: %r' % (mean, std, parameter))\n",
    "\n",
    "print ('Best score:', grid_result.best_score_)\n",
    "print ('Best parameters:', grid_result.best_params_)"
   ]
  },
  {
   "cell_type": "markdown",
   "metadata": {},
   "source": [
    "The learning rate shows an optimum between 0.03 and 0.06. The value 0.043 is kept for the further optimizations."
   ]
  },
  {
   "cell_type": "markdown",
   "metadata": {},
   "source": [
    "#### Tune the number of neurons of the hidden layer"
   ]
  },
  {
   "cell_type": "markdown",
   "metadata": {},
   "source": [
    "In the baseline model, the hidden layer has the same size as the input layer. We tune it between 15 and 34 neurons."
   ]
  },
  {
   "cell_type": "code",
   "execution_count": 21,
   "metadata": {},
   "outputs": [],
   "source": [
    "def start_tuning_model(init_mode='normal', activation='relu', nb_neurons=num_expl):\n",
    "    model = Sequential()\n",
    "    model.add(Dense(nb_neurons, input_shape=(num_expl,), kernel_initializer=init_mode, activation=activation, name='layer_0'))\n",
    "    model.add(Dense(1, kernel_initializer=init_mode, name='layer_1'))\n",
    "    model.compile(loss='mse', optimizer=Adam(learning_rate=0.043))\n",
    "\n",
    "    return model\n",
    "\n",
    "preprocessor = ColumnTransformer(\n",
    "                        transformers=[\n",
    "                                ('numerical', StandardScaler(), lst_expl),\n",
    "                                ('categorical', 'passthrough', lst_slot_class)]                              \n",
    "                        )\n",
    "\n",
    "pipe_start_tuning = Pipeline(steps=[\n",
    "                    ('preprocessor', preprocessor),\n",
    "                    ('mlp', KerasRegressor(model=start_tuning_model, epochs=100, batch_size=1000, validation_split=0.2, verbose=0, shuffle=True, random_state=55))\n",
    "                    ])"
   ]
  },
  {
   "cell_type": "code",
   "execution_count": 22,
   "metadata": {},
   "outputs": [
    {
     "name": "stdout",
     "output_type": "stream",
     "text": [
      "0.787134 (0.017675) with: {'mlp__model__nb_neurons': 15}\n",
      "0.798675 (0.026476) with: {'mlp__model__nb_neurons': 16}\n",
      "0.808846 (0.005051) with: {'mlp__model__nb_neurons': 17}\n",
      "0.802826 (0.018651) with: {'mlp__model__nb_neurons': 18}\n",
      "0.812111 (0.014145) with: {'mlp__model__nb_neurons': 19}\n",
      "0.806694 (0.006547) with: {'mlp__model__nb_neurons': 20}\n",
      "0.798858 (0.027366) with: {'mlp__model__nb_neurons': 21}\n",
      "0.807620 (0.016525) with: {'mlp__model__nb_neurons': 22}\n",
      "0.810683 (0.014030) with: {'mlp__model__nb_neurons': 23}\n",
      "0.806801 (0.018382) with: {'mlp__model__nb_neurons': 24}\n",
      "0.816532 (0.016012) with: {'mlp__model__nb_neurons': 25}\n",
      "0.811997 (0.015811) with: {'mlp__model__nb_neurons': 26}\n",
      "0.813137 (0.020551) with: {'mlp__model__nb_neurons': 27}\n",
      "0.810125 (0.011737) with: {'mlp__model__nb_neurons': 28}\n",
      "0.815933 (0.013466) with: {'mlp__model__nb_neurons': 29}\n",
      "0.813096 (0.017546) with: {'mlp__model__nb_neurons': 30}\n",
      "0.816480 (0.013294) with: {'mlp__model__nb_neurons': 31}\n",
      "0.804342 (0.013855) with: {'mlp__model__nb_neurons': 32}\n",
      "0.812369 (0.017096) with: {'mlp__model__nb_neurons': 33}\n",
      "0.806885 (0.016374) with: {'mlp__model__nb_neurons': 34}\n",
      "Best score: 0.8165320949783654\n",
      "Best parameters: {'mlp__model__nb_neurons': 25}\n"
     ]
    }
   ],
   "source": [
    "lst_nb_neurons = np.arange(15, 35, 1)\n",
    "params = {'mlp__model__nb_neurons': lst_nb_neurons}\n",
    "\n",
    "grid = GridSearchCV(estimator=pipe_start_tuning, param_grid=params, n_jobs=-1, cv=5)\n",
    "grid_result = grid.fit(X_train, w_train)\n",
    "\n",
    "means = grid_result.cv_results_['mean_test_score']\n",
    "stds = grid_result.cv_results_['std_test_score']\n",
    "parameters = grid_result.cv_results_['params']\n",
    "\n",
    "for mean, std, parameter in zip(means, stds, parameters):\n",
    "    print ('%f (%f) with: %r' % (mean, std, parameter))\n",
    "\n",
    "print ('Best score:', grid_result.best_score_)\n",
    "print ('Best parameters:', grid_result.best_params_)"
   ]
  },
  {
   "cell_type": "markdown",
   "metadata": {},
   "source": [
    "* Best number of neurons for the hidden layer: 25"
   ]
  },
  {
   "cell_type": "markdown",
   "metadata": {},
   "source": [
    "#### Tune the weight initialization and the activation function"
   ]
  },
  {
   "cell_type": "code",
   "execution_count": 23,
   "metadata": {},
   "outputs": [],
   "source": [
    "def start_tuning_model(init_mode='normal', activation='relu'):\n",
    "    model = Sequential()\n",
    "    model.add(Dense(25, input_shape=(num_expl,), kernel_initializer=init_mode, activation=activation, name='layer_0'))\n",
    "    model.add(Dense(1, kernel_initializer=init_mode, name='layer_1'))\n",
    "    model.compile(loss='mse', optimizer=Adam(learning_rate=0.043))\n",
    "    \n",
    "    return model\n",
    "\n",
    "preprocessor = ColumnTransformer(\n",
    "                        transformers=[\n",
    "                                ('numerical', StandardScaler(), lst_expl),\n",
    "                                ('categorical', 'passthrough', lst_slot_class)]                              \n",
    "                        )\n",
    "\n",
    "pipe_start_tuning = Pipeline(steps=[\n",
    "                    ('preprocessor', preprocessor),\n",
    "                    ('mlp', KerasRegressor(model=start_tuning_model, epochs=100, batch_size=1000, validation_split=0.2, verbose=0, shuffle=True, random_state=55))\n",
    "                    ])"
   ]
  },
  {
   "cell_type": "code",
   "execution_count": 24,
   "metadata": {},
   "outputs": [
    {
     "name": "stdout",
     "output_type": "stream",
     "text": [
      "0.816532 (0.016012) with: {'mlp__model__activation': 'relu', 'mlp__model__init_mode': 'normal'}\n",
      "0.819470 (0.013786) with: {'mlp__model__activation': 'relu', 'mlp__model__init_mode': 'uniform'}\n",
      "0.804869 (0.010210) with: {'mlp__model__activation': 'relu', 'mlp__model__init_mode': 'lecun_uniform'}\n",
      "-0.000563 (0.000505) with: {'mlp__model__activation': 'relu', 'mlp__model__init_mode': 'zero'}\n",
      "0.814206 (0.015752) with: {'mlp__model__activation': 'relu', 'mlp__model__init_mode': 'glorot_normal'}\n",
      "0.808614 (0.004932) with: {'mlp__model__activation': 'relu', 'mlp__model__init_mode': 'glorot_uniform'}\n",
      "0.802726 (0.018637) with: {'mlp__model__activation': 'relu', 'mlp__model__init_mode': 'he_normal'}\n",
      "0.815460 (0.014187) with: {'mlp__model__activation': 'relu', 'mlp__model__init_mode': 'he_uniform'}\n",
      "0.822342 (0.017127) with: {'mlp__model__activation': 'softmax', 'mlp__model__init_mode': 'normal'}\n",
      "0.815521 (0.007884) with: {'mlp__model__activation': 'softmax', 'mlp__model__init_mode': 'uniform'}\n",
      "0.812074 (0.015433) with: {'mlp__model__activation': 'softmax', 'mlp__model__init_mode': 'lecun_uniform'}\n",
      "-0.003786 (0.003358) with: {'mlp__model__activation': 'softmax', 'mlp__model__init_mode': 'zero'}\n",
      "0.817013 (0.012528) with: {'mlp__model__activation': 'softmax', 'mlp__model__init_mode': 'glorot_normal'}\n",
      "0.811136 (0.015829) with: {'mlp__model__activation': 'softmax', 'mlp__model__init_mode': 'glorot_uniform'}\n",
      "0.816097 (0.017386) with: {'mlp__model__activation': 'softmax', 'mlp__model__init_mode': 'he_normal'}\n",
      "0.818669 (0.019762) with: {'mlp__model__activation': 'softmax', 'mlp__model__init_mode': 'he_uniform'}\n",
      "0.807889 (0.017446) with: {'mlp__model__activation': 'softplus', 'mlp__model__init_mode': 'normal'}\n",
      "0.796662 (0.014377) with: {'mlp__model__activation': 'softplus', 'mlp__model__init_mode': 'uniform'}\n",
      "0.793710 (0.027905) with: {'mlp__model__activation': 'softplus', 'mlp__model__init_mode': 'lecun_uniform'}\n",
      "0.627906 (0.018380) with: {'mlp__model__activation': 'softplus', 'mlp__model__init_mode': 'zero'}\n",
      "0.746098 (0.034911) with: {'mlp__model__activation': 'softplus', 'mlp__model__init_mode': 'glorot_normal'}\n",
      "0.778798 (0.020174) with: {'mlp__model__activation': 'softplus', 'mlp__model__init_mode': 'glorot_uniform'}\n",
      "0.753980 (0.028553) with: {'mlp__model__activation': 'softplus', 'mlp__model__init_mode': 'he_normal'}\n",
      "0.754634 (0.034930) with: {'mlp__model__activation': 'softplus', 'mlp__model__init_mode': 'he_uniform'}\n",
      "0.755465 (0.017423) with: {'mlp__model__activation': 'softsign', 'mlp__model__init_mode': 'normal'}\n",
      "0.774700 (0.025734) with: {'mlp__model__activation': 'softsign', 'mlp__model__init_mode': 'uniform'}\n",
      "0.757204 (0.020982) with: {'mlp__model__activation': 'softsign', 'mlp__model__init_mode': 'lecun_uniform'}\n",
      "-0.000563 (0.000505) with: {'mlp__model__activation': 'softsign', 'mlp__model__init_mode': 'zero'}\n",
      "0.752350 (0.016182) with: {'mlp__model__activation': 'softsign', 'mlp__model__init_mode': 'glorot_normal'}\n",
      "0.743830 (0.012543) with: {'mlp__model__activation': 'softsign', 'mlp__model__init_mode': 'glorot_uniform'}\n",
      "0.747073 (0.025229) with: {'mlp__model__activation': 'softsign', 'mlp__model__init_mode': 'he_normal'}\n",
      "0.741358 (0.019361) with: {'mlp__model__activation': 'softsign', 'mlp__model__init_mode': 'he_uniform'}\n",
      "0.768190 (0.014354) with: {'mlp__model__activation': 'tanh', 'mlp__model__init_mode': 'normal'}\n",
      "0.770671 (0.021575) with: {'mlp__model__activation': 'tanh', 'mlp__model__init_mode': 'uniform'}\n",
      "0.759027 (0.010448) with: {'mlp__model__activation': 'tanh', 'mlp__model__init_mode': 'lecun_uniform'}\n",
      "-0.000563 (0.000505) with: {'mlp__model__activation': 'tanh', 'mlp__model__init_mode': 'zero'}\n",
      "0.757588 (0.014381) with: {'mlp__model__activation': 'tanh', 'mlp__model__init_mode': 'glorot_normal'}\n",
      "0.767722 (0.024782) with: {'mlp__model__activation': 'tanh', 'mlp__model__init_mode': 'glorot_uniform'}\n",
      "0.755856 (0.026449) with: {'mlp__model__activation': 'tanh', 'mlp__model__init_mode': 'he_normal'}\n",
      "0.755170 (0.018682) with: {'mlp__model__activation': 'tanh', 'mlp__model__init_mode': 'he_uniform'}\n",
      "0.793421 (0.019951) with: {'mlp__model__activation': 'sigmoid', 'mlp__model__init_mode': 'normal'}\n",
      "0.795907 (0.018225) with: {'mlp__model__activation': 'sigmoid', 'mlp__model__init_mode': 'uniform'}\n",
      "0.787835 (0.015415) with: {'mlp__model__activation': 'sigmoid', 'mlp__model__init_mode': 'lecun_uniform'}\n",
      "0.684198 (0.016601) with: {'mlp__model__activation': 'sigmoid', 'mlp__model__init_mode': 'zero'}\n",
      "0.774798 (0.012443) with: {'mlp__model__activation': 'sigmoid', 'mlp__model__init_mode': 'glorot_normal'}\n",
      "0.785208 (0.019511) with: {'mlp__model__activation': 'sigmoid', 'mlp__model__init_mode': 'glorot_uniform'}\n",
      "0.773049 (0.012880) with: {'mlp__model__activation': 'sigmoid', 'mlp__model__init_mode': 'he_normal'}\n",
      "0.782741 (0.014791) with: {'mlp__model__activation': 'sigmoid', 'mlp__model__init_mode': 'he_uniform'}\n",
      "0.792575 (0.016682) with: {'mlp__model__activation': 'hard_sigmoid', 'mlp__model__init_mode': 'normal'}\n",
      "0.795127 (0.017902) with: {'mlp__model__activation': 'hard_sigmoid', 'mlp__model__init_mode': 'uniform'}\n",
      "0.796068 (0.016861) with: {'mlp__model__activation': 'hard_sigmoid', 'mlp__model__init_mode': 'lecun_uniform'}\n",
      "0.584662 (0.023089) with: {'mlp__model__activation': 'hard_sigmoid', 'mlp__model__init_mode': 'zero'}\n",
      "0.770076 (0.005401) with: {'mlp__model__activation': 'hard_sigmoid', 'mlp__model__init_mode': 'glorot_normal'}\n",
      "0.782946 (0.016385) with: {'mlp__model__activation': 'hard_sigmoid', 'mlp__model__init_mode': 'glorot_uniform'}\n",
      "0.767383 (0.005868) with: {'mlp__model__activation': 'hard_sigmoid', 'mlp__model__init_mode': 'he_normal'}\n",
      "0.787907 (0.018474) with: {'mlp__model__activation': 'hard_sigmoid', 'mlp__model__init_mode': 'he_uniform'}\n",
      "0.568578 (0.024764) with: {'mlp__model__activation': 'linear', 'mlp__model__init_mode': 'normal'}\n",
      "0.567009 (0.022795) with: {'mlp__model__activation': 'linear', 'mlp__model__init_mode': 'uniform'}\n",
      "0.570627 (0.025131) with: {'mlp__model__activation': 'linear', 'mlp__model__init_mode': 'lecun_uniform'}\n",
      "-0.000563 (0.000505) with: {'mlp__model__activation': 'linear', 'mlp__model__init_mode': 'zero'}\n",
      "0.576474 (0.023408) with: {'mlp__model__activation': 'linear', 'mlp__model__init_mode': 'glorot_normal'}\n",
      "0.573299 (0.022342) with: {'mlp__model__activation': 'linear', 'mlp__model__init_mode': 'glorot_uniform'}\n",
      "0.574687 (0.025925) with: {'mlp__model__activation': 'linear', 'mlp__model__init_mode': 'he_normal'}\n",
      "0.568860 (0.022391) with: {'mlp__model__activation': 'linear', 'mlp__model__init_mode': 'he_uniform'}\n",
      "Best score: 0.8223416091374824\n",
      "Best parameters: {'mlp__model__activation': 'softmax', 'mlp__model__init_mode': 'normal'}\n"
     ]
    }
   ],
   "source": [
    "lst_init_mode = ['normal', 'uniform', 'lecun_uniform', 'zero', 'glorot_normal', 'glorot_uniform', 'he_normal', 'he_uniform']\n",
    "lst_activation = ['relu', 'softmax', 'softplus', 'softsign', 'tanh', 'sigmoid', 'hard_sigmoid', 'linear']\n",
    "params = {'mlp__model__init_mode': lst_init_mode, 'mlp__model__activation': lst_activation}\n",
    "\n",
    "grid = GridSearchCV(estimator=pipe_start_tuning, param_grid=params, n_jobs=-1, cv=5)\n",
    "grid_result = grid.fit(X_train, w_train)\n",
    "\n",
    "means = grid_result.cv_results_['mean_test_score']\n",
    "stds = grid_result.cv_results_['std_test_score']\n",
    "parameters = grid_result.cv_results_['params']\n",
    "\n",
    "for mean, std, parameter in zip(means, stds, parameters):\n",
    "    print ('%f (%f) with: %r' % (mean, std, parameter))\n",
    "\n",
    "print ('Best score:', grid_result.best_score_)\n",
    "print ('Best parameters:', grid_result.best_params_)"
   ]
  },
  {
   "cell_type": "markdown",
   "metadata": {},
   "source": [
    "The best results are obtained for:\n",
    "* the Softmax activation functions\n",
    "* the normal weight initializer.\n"
   ]
  },
  {
   "cell_type": "code",
   "execution_count": 25,
   "metadata": {},
   "outputs": [
    {
     "name": "stdout",
     "output_type": "stream",
     "text": [
      "Score of the test set: 0.8541859658399016\n"
     ]
    }
   ],
   "source": [
    "# Check the score again\n",
    "print ('Score of the test set:', grid_result.score(X_test, w_test))"
   ]
  },
  {
   "cell_type": "markdown",
   "metadata": {},
   "source": [
    "Redefine and dump the best model"
   ]
  },
  {
   "cell_type": "code",
   "execution_count": 14,
   "metadata": {},
   "outputs": [],
   "source": [
    "nb_neurons = 25\n",
    "init_mode = 'normal'\n",
    "activation = 'softmax'\n",
    "learning_rate = 0.043"
   ]
  },
  {
   "cell_type": "code",
   "execution_count": 15,
   "metadata": {},
   "outputs": [],
   "source": [
    "# Preprocessing\n",
    "preprocessor = ColumnTransformer(\n",
    "                        transformers=[\n",
    "                                ('numerical', StandardScaler(), lst_expl),\n",
    "                                ('categorical', 'passthrough', lst_slot_class)]                              \n",
    "                        )\n",
    "\n",
    "# Define the Keras regressor\n",
    "regressor = Sequential()\n",
    "regressor.add(Dense(nb_neurons, input_shape=(num_expl,), kernel_initializer=init_mode, activation=activation, name='layer_0'))\n",
    "regressor.add(Dense(1, kernel_initializer=init_mode, name='layer_1'))\n",
    "regressor.compile(loss='mse', optimizer=Adam(learning_rate=learning_rate))\n",
    "\n",
    "# Create the main pipeline\n",
    "pipe_tuned_regr = Pipeline(steps=[                        \n",
    "                        ('preprocessor', preprocessor),\n",
    "                        ('regressor', KerasRegressor(model=regressor, epochs=100, batch_size=1000, validation_split=0.2, verbose=0, shuffle=True, random_state=55))\n",
    "                        ])"
   ]
  },
  {
   "cell_type": "code",
   "execution_count": 16,
   "metadata": {},
   "outputs": [
    {
     "name": "stdout",
     "output_type": "stream",
     "text": [
      "Score of the test set: 0.8550440040374117\n"
     ]
    }
   ],
   "source": [
    "# Check the score again\n",
    "pipe_tuned_regr.fit(X_train, w_train)\n",
    "print ('Score of the test set:', pipe_tuned_regr.score(X_test, w_test))"
   ]
  },
  {
   "cell_type": "code",
   "execution_count": 17,
   "metadata": {},
   "outputs": [
    {
     "name": "stdout",
     "output_type": "stream",
     "text": [
      "INFO:tensorflow:Assets written to: C:\\Users\\fbrouet\\AppData\\Local\\Temp\\tmp6b5lwota\\assets\n"
     ]
    },
    {
     "name": "stderr",
     "output_type": "stream",
     "text": [
      "INFO:tensorflow:Assets written to: C:\\Users\\fbrouet\\AppData\\Local\\Temp\\tmp6b5lwota\\assets\n"
     ]
    }
   ],
   "source": [
    "# Dump the best model: \n",
    "dump_dir = os.path.join(base_dir, 'Scripts', 'model_dumps')\n",
    "pickle.dump(pipe_tuned_regr, open(os.path.join(dump_dir, '5_model_neuralnetw_tuned_long_displacements.pkl'), 'wb'))\n",
    "pickle.dump(transf, open(os.path.join(dump_dir, '5_model_neuralnetw_tuned_transformer.pkl'), 'wb'))"
   ]
  },
  {
   "cell_type": "markdown",
   "metadata": {},
   "source": [
    "### History of the fitted model"
   ]
  },
  {
   "cell_type": "code",
   "execution_count": 8,
   "metadata": {},
   "outputs": [],
   "source": [
    "# Unscaled explanatory variables\n",
    "lst_slot_class = lst_param[541:545]\n",
    "lst_expl = lst_param[1:4] + lst_param[5:7] + lst_param[8:24] + lst_param[32:34]\n",
    "X = df_params[lst_expl + lst_slot_class]\n",
    "\n",
    "y = df_params[['long_disp_nrdd']]\n",
    "\n",
    "num_expl = X.shape[1]"
   ]
  },
  {
   "cell_type": "code",
   "execution_count": 9,
   "metadata": {},
   "outputs": [],
   "source": [
    "# New train-test split\n",
    "X_train, X_test, y_train, y_test = train_test_split(X, y, test_size = 0.2, random_state=55)\n",
    "idx_train = X_train.index\n",
    "idx_test = X_test.index"
   ]
  },
  {
   "cell_type": "code",
   "execution_count": 10,
   "metadata": {},
   "outputs": [],
   "source": [
    "# Apply the StandardScaler to the explanatory variables of the training set\n",
    "scaler = StandardScaler()\n",
    "X_train_scaled = scaler.fit_transform(X_train[lst_expl])\n",
    "X_train_scaled = pd.concat([pd.DataFrame(X_train_scaled, columns=lst_expl, index=idx_train), X_train[lst_slot_class]], axis=1)"
   ]
  },
  {
   "cell_type": "code",
   "execution_count": 11,
   "metadata": {},
   "outputs": [],
   "source": [
    "# Apply the PowerTransformer to the target variable\n",
    "transf = PowerTransformer()\n",
    "w_train = pd.DataFrame(transf.fit_transform(y_train), index=idx_train)"
   ]
  },
  {
   "cell_type": "code",
   "execution_count": 12,
   "metadata": {},
   "outputs": [],
   "source": [
    "# The coefficient of determination R² is not included in the Keras metrics by default but it would be useful to compare the performance with the other estimators previouly investigated. \n",
    "def r2_score(y_true, y_pred):\n",
    "    ss_res = K.sum(K.square(y_true-y_pred))\n",
    "    ss_tot = K.sum(K.square(y_true-K.mean(y_true)))\n",
    "    return 1 - ss_res/ss_tot"
   ]
  },
  {
   "cell_type": "markdown",
   "metadata": {},
   "source": [
    "The model is compiled with the Adam optimization algorithm and the mean squared error as the loss function is used. The metric R² will be used again to evaluate its performance: "
   ]
  },
  {
   "cell_type": "code",
   "execution_count": 16,
   "metadata": {},
   "outputs": [],
   "source": [
    "model_1 = Sequential(name='tuned_model')\n",
    "model_1.add(Dense(25, input_shape=(num_expl,), kernel_initializer='normal', activation='softmax', name='Dense_Layer_1'))\n",
    "model_1.add(Dense(1, kernel_initializer='normal', name='Dense_Layer_2'))\n",
    "model_1.compile(loss='mse', optimizer=Adam(learning_rate=0.043), metrics=[r2_score])"
   ]
  },
  {
   "cell_type": "code",
   "execution_count": 17,
   "metadata": {},
   "outputs": [
    {
     "name": "stdout",
     "output_type": "stream",
     "text": [
      "Model: \"tuned_model\"\n",
      "_________________________________________________________________\n",
      " Layer (type)                Output Shape              Param #   \n",
      "=================================================================\n",
      " Dense_Layer_1 (Dense)       (None, 25)                700       \n",
      "                                                                 \n",
      " Dense_Layer_2 (Dense)       (None, 1)                 26        \n",
      "                                                                 \n",
      "=================================================================\n",
      "Total params: 726 (2.84 KB)\n",
      "Trainable params: 726 (2.84 KB)\n",
      "Non-trainable params: 0 (0.00 Byte)\n",
      "_________________________________________________________________\n"
     ]
    }
   ],
   "source": [
    "model_1.summary()"
   ]
  },
  {
   "cell_type": "markdown",
   "metadata": {},
   "source": [
    "The training information is stored in the history object:"
   ]
  },
  {
   "cell_type": "code",
   "execution_count": 37,
   "metadata": {},
   "outputs": [],
   "source": [
    "history = model_1.fit(X_train_scaled, w_train, epochs=100, batch_size=1000, verbose=0, validation_split=0.2)"
   ]
  },
  {
   "cell_type": "code",
   "execution_count": 38,
   "metadata": {},
   "outputs": [
    {
     "data": {
      "image/png": "[encoded data removed]",
      "text/plain": [
       "<Figure size 500x500 with 1 Axes>"
      ]
     },
     "metadata": {},
     "output_type": "display_data"
    }
   ],
   "source": [
    "# Plot of the evoluation of the loss during the training\n",
    "fig = plt.figure(figsize=(5, 5))\n",
    "plt.plot(history.history['loss'], label='Loss (training)')\n",
    "plt.plot(history.history['val_loss'], label='Loss (validation)')\n",
    "plt.xlabel('Epochs')\n",
    "plt.ylabel('Loss')\n",
    "plt.legend()\n",
    "plt.show()"
   ]
  },
  {
   "cell_type": "code",
   "execution_count": 39,
   "metadata": {},
   "outputs": [
    {
     "data": {
      "image/png": "[encoded data removed]",
      "text/plain": [
       "<Figure size 500x500 with 1 Axes>"
      ]
     },
     "metadata": {},
     "output_type": "display_data"
    }
   ],
   "source": [
    "# Plot of the evoluation of the metric during the training\n",
    "fig = plt.figure(figsize=(5, 5))\n",
    "plt.plot(history.history['r2_score'], label='R² (training)')\n",
    "plt.plot(history.history['val_r2_score'], label='R² (validation)')\n",
    "plt.xlabel('Epochs')\n",
    "plt.ylabel('R²')\n",
    "plt.legend()\n",
    "plt.show()"
   ]
  },
  {
   "cell_type": "markdown",
   "metadata": {},
   "source": [
    "The value of the loss function and of the evaluation metric remain stable during the training. The R² value is not dramatically lower in the validation set than in the training set, which means that a slight overfitting is present. Anyway the training process can be considered as successful."
   ]
  },
  {
   "cell_type": "markdown",
   "metadata": {},
   "source": [
    " The predictions are calculated with the test set of the data and transformed back:"
   ]
  },
  {
   "cell_type": "code",
   "execution_count": 40,
   "metadata": {},
   "outputs": [
    {
     "name": "stdout",
     "output_type": "stream",
     "text": [
      "50/50 [==============================] - 0s 1ms/step\n"
     ]
    },
    {
     "name": "stderr",
     "output_type": "stream",
     "text": [
      "c:\\Users\\fbrouet\\.conda\\envs\\fbr\\lib\\site-packages\\sklearn\\base.py:465: UserWarning: X does not have valid feature names, but PowerTransformer was fitted with feature names\n",
      "  warnings.warn(\n"
     ]
    }
   ],
   "source": [
    "X_test_scaled = scaler.transform(X_test[lst_expl])\n",
    "X_test_scaled = pd.concat([pd.DataFrame(X_test_scaled, columns=lst_expl, index=idx_test), X_test[lst_slot_class]], axis=1)\n",
    "\n",
    "w_test = pd.DataFrame(transf.transform(y_test), index=idx_test)\n",
    "w_pred = pd.DataFrame(model_1.predict(X_test_scaled), index=idx_test)\n",
    "y_pred = pd.DataFrame(transf.inverse_transform(w_pred), index=idx_test)"
   ]
  },
  {
   "cell_type": "code",
   "execution_count": 47,
   "metadata": {},
   "outputs": [
    {
     "data": {
      "image/png": "[encoded data removed]",
      "text/plain": [
       "<Figure size 600x600 with 1 Axes>"
      ]
     },
     "metadata": {},
     "output_type": "display_data"
    }
   ],
   "source": [
    "fig = plt.figure(figsize=(6, 6))\n",
    "plt.scatter(y_test, y_pred)\n",
    "plt.plot([0, 20], [0, 20], color='r')\n",
    "plt.xlabel('NRDD real values')\n",
    "plt.ylabel('NRDD predictions')\n",
    "plt.title('Predicted and real values of the test set')\n",
    "plt.grid(True)\n",
    "plt.show()"
   ]
  },
  {
   "cell_type": "markdown",
   "metadata": {},
   "source": [
    "The spreading of the predictions for great values of the NRDD will be discussed in the next notebook devoted to the interpretation"
   ]
  },
  {
   "cell_type": "code",
   "execution_count": null,
   "metadata": {},
   "outputs": [],
   "source": []
  }
 ],
 "metadata": {
  "kernelspec": {
   "display_name": "fbr",
   "language": "python",
   "name": "python3"
  },
  "language_info": {
   "codemirror_mode": {
    "name": "ipython",
    "version": 3
   },
   "file_extension": ".py",
   "mimetype": "text/x-python",
   "name": "python",
   "nbconvert_exporter": "python",
   "pygments_lexer": "ipython3",
   "version": "3.8.20"
  }
 },
 "nbformat": 4,
 "nbformat_minor": 2
}
